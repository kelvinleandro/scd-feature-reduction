{
 "cells": [
  {
   "cell_type": "code",
   "execution_count": null,
   "id": "f8cc03e8",
   "metadata": {},
   "outputs": [],
   "source": [
    "from sklearn.model_selection._split import _BaseKFold\n",
    "import numpy as np\n",
    "import pandas as pd\n",
    "from sklearn.model_selection import StratifiedKFold\n",
    "\n",
    "class StratifiedGroupKFold(_BaseKFold):\n",
    "    \"\"\"\n",
    "    Stratified K-Folds cross-validator with non-overlapping groups.\n",
    "    \n",
    "    Each fold maintains the class distribution (stratification) at the group level.\n",
    "    Groups are not split across folds.\n",
    "    \"\"\"\n",
    "\n",
    "    def __init__(self, n_splits=5, shuffle=False, random_state=None):\n",
    "        super().__init__(n_splits, shuffle=shuffle, random_state=random_state)\n",
    "\n",
    "    def split(self, X, y, groups):\n",
    "        X, y, groups = np.array(X), np.array(y), np.array(groups)\n",
    "\n",
    "        # Step 1: group -> class mapping\n",
    "        df = pd.DataFrame({'group': groups, 'label': y})\n",
    "        group_labels = df.groupby('group')['label'].first()\n",
    "        unique_groups = group_labels.index.values\n",
    "        unique_labels = group_labels.values\n",
    "\n",
    "        # Step 2: stratified split on group-level labels\n",
    "        skf = StratifiedKFold(self.n_splits, shuffle=self.shuffle, random_state=self.random_state)\n",
    "        for group_train_idx, group_test_idx in skf.split(unique_groups, unique_labels):\n",
    "            train_groups = unique_groups[group_train_idx]\n",
    "            test_groups = unique_groups[group_test_idx]\n",
    "\n",
    "            # Step 3: mask original samples by group\n",
    "            train_idx = np.where(np.isin(groups, train_groups))[0]\n",
    "            test_idx = np.where(np.isin(groups, test_groups))[0]\n",
    "            yield train_idx, test_idx"
   ]
  },
  {
   "cell_type": "code",
   "execution_count": 23,
   "id": "96e8c284",
   "metadata": {},
   "outputs": [
    {
     "name": "stdout",
     "output_type": "stream",
     "text": [
      "Fold 0:\n",
      "  Train class distribution: 0.2967\n",
      "  Test class distribution:  0.3194\n",
      "Fold 1:\n",
      "  Train class distribution: 0.3109\n",
      "  Test class distribution:  0.2642\n",
      "Fold 2:\n",
      "  Train class distribution: 0.2997\n",
      "  Test class distribution:  0.3056\n",
      "Fold 3:\n",
      "  Train class distribution: 0.3024\n",
      "  Test class distribution:  0.2953\n",
      "Fold 4:\n",
      "  Train class distribution: 0.2956\n",
      "  Test class distribution:  0.3245\n"
     ]
    }
   ],
   "source": [
    "from sklearn.datasets import make_classification\n",
    "\n",
    "# Create a dummy dataset\n",
    "X, y = make_classification(n_samples=1000, n_classes=2, weights=[0.7, 0.3], random_state=42)\n",
    "groups = np.random.randint(0, 100, size=1000)  # 100 groups\n",
    "\n",
    "cv = StratifiedGroupKFold(n_splits=5, shuffle=True, random_state=42)\n",
    "\n",
    "for fold, (train_idx, test_idx) in enumerate(cv.split(X, y, groups)):\n",
    "    print(f\"Fold {fold}:\")\n",
    "    print(f\"  Train class distribution: {y[train_idx].mean():.4f}\")\n",
    "    print(f\"  Test class distribution:  {y[test_idx].mean():.4f}\")"
   ]
  }
 ],
 "metadata": {
  "kernelspec": {
   "display_name": ".venv",
   "language": "python",
   "name": "python3"
  },
  "language_info": {
   "codemirror_mode": {
    "name": "ipython",
    "version": 3
   },
   "file_extension": ".py",
   "mimetype": "text/x-python",
   "name": "python",
   "nbconvert_exporter": "python",
   "pygments_lexer": "ipython3",
   "version": "3.11.4"
  }
 },
 "nbformat": 4,
 "nbformat_minor": 5
}
