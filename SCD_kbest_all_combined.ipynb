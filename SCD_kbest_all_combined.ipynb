{
 "cells": [
  {
   "cell_type": "code",
   "execution_count": 1,
   "metadata": {
    "executionInfo": {
     "elapsed": 4632,
     "status": "ok",
     "timestamp": 1744126156300,
     "user": {
      "displayName": "Kelvin Leandro",
      "userId": "17919846364529882488"
     },
     "user_tz": 180
    },
    "id": "mW0pzTOGKfVJ"
   },
   "outputs": [],
   "source": [
    "import pandas as pd\n",
    "from sklearn.preprocessing import StandardScaler\n",
    "from sklearn.feature_selection import SelectKBest, f_classif\n",
    "from sklearn.model_selection import train_test_split, StratifiedKFold\n",
    "from sklearn.linear_model import LogisticRegression\n",
    "from sklearn.neighbors import KNeighborsClassifier\n",
    "from sklearn.svm import SVC\n",
    "from sklearn.pipeline import Pipeline"
   ]
  },
  {
   "cell_type": "code",
   "execution_count": 2,
   "metadata": {
    "colab": {
     "base_uri": "https://localhost:8080/"
    },
    "executionInfo": {
     "elapsed": 2605,
     "status": "ok",
     "timestamp": 1744126158900,
     "user": {
      "displayName": "Kelvin Leandro",
      "userId": "17919846364529882488"
     },
     "user_tz": 180
    },
    "id": "jqck2ypqK4rR",
    "outputId": "d8a69515-0f9c-4715-e690-db33c04756b1"
   },
   "outputs": [
    {
     "data": {
      "text/plain": [
       "(176, 131)"
      ]
     },
     "execution_count": 2,
     "metadata": {},
     "output_type": "execute_result"
    }
   ],
   "source": [
    "df_time = pd.read_csv('data/time_domain_features_holter.csv')\n",
    "df_wavelet = pd.read_csv('data/wavelet_features_holter.csv')\n",
    "df_hrv = pd.read_csv('data/hrv_holter_features_time.csv')\n",
    "df = pd.merge(df_time, df_wavelet, on=['ID', 'died'])\n",
    "df = pd.merge(df, df_hrv, on=['ID', 'died'])\n",
    "y = df[\"died\"].values\n",
    "X = df.drop([\"ID\", \"died\"], axis=1).values\n",
    "\n",
    "X_train, X_test, y_train, y_test = train_test_split(\n",
    "    X, y, stratify=y, test_size=0.2, random_state=42\n",
    ")\n",
    "X.shape"
   ]
  },
  {
   "cell_type": "markdown",
   "metadata": {
    "id": "JaLSnD31NXEf"
   },
   "source": [
    "## Utils\n"
   ]
  },
  {
   "cell_type": "code",
   "execution_count": null,
   "metadata": {},
   "outputs": [],
   "source": [
    "from importlib import reload\n",
    "import utils\n",
    "\n",
    "reload(utils)\n",
    "\n",
    "from utils import (\n",
    "    preprocess,\n",
    "    find_best_fold,\n",
    "    calculate_metrics,\n",
    "    plot_confusion_matrix,\n",
    "    display_kfold_scores,\n",
    "    apply_grid_search,\n",
    "    extract_params_and_k,\n",
    "    get_kfold_results,\n",
    "    gmean_scorer,\n",
    "    CorrelationFeatureReducer\n",
    ")\n",
    "\n",
    "\n",
    "from sklearn.decomposition import PCA"
   ]
  },
  {
   "cell_type": "markdown",
   "metadata": {},
   "source": [
    "## Constants\n"
   ]
  },
  {
   "cell_type": "code",
   "execution_count": 4,
   "metadata": {},
   "outputs": [],
   "source": [
    "MODEL_PREFIX = \"clf\"\n",
    "K_KEY = \"select__k\"\n",
    "REDUCTION_TYPE = \"kbest\"\n",
    "\n",
    "SELECTOR_MAP = {\n",
    "    \"kbest\": SelectKBest(f_classif),\n",
    "    \"corr\": CorrelationFeatureReducer(),\n",
    "    \"pca\": PCA(),\n",
    "}\n",
    "\n",
    "SELECTOR = SELECTOR_MAP[REDUCTION_TYPE]\n",
    "\n",
    "cv = StratifiedKFold(n_splits=5, shuffle=True, random_state=42)"
   ]
  },
  {
   "cell_type": "markdown",
   "metadata": {
    "id": "5cctVqKqLXds"
   },
   "source": [
    "## Logistic Regression\n"
   ]
  },
  {
   "cell_type": "code",
   "execution_count": 5,
   "metadata": {},
   "outputs": [
    {
     "name": "stdout",
     "output_type": "stream",
     "text": [
      "Fitting 5 folds for each of 260 candidates, totalling 1300 fits\n",
      "Best score: 0.8122352941176472\n",
      "Best params: {'C': 0.1, 'class_weight': None, 'penalty': 'l1'}\n",
      "Best k: 10\n"
     ]
    }
   ],
   "source": [
    "pipeline = Pipeline(\n",
    "    [\n",
    "        (\"scaler\", StandardScaler()),\n",
    "        (\"select\", SELECTOR),\n",
    "        (\"clf\", LogisticRegression(solver=\"liblinear\", max_iter=1000, random_state=42)),\n",
    "    ]\n",
    ")\n",
    "\n",
    "param_grid = {\n",
    "    'select__k': [10, 20, 30, 40, 50, 60, 70, 80, 90, 100, 110, 120, X.shape[-1]],\n",
    "    'clf__penalty': ['l1', 'l2'],\n",
    "    'clf__C': [0.001, 0.01, 0.1, 1, 10],\n",
    "    'clf__class_weight': [None, 'balanced']\n",
    "}\n",
    "\n",
    "params = apply_grid_search(\n",
    "    X_train, y_train, estimator=pipeline, param_grid=param_grid, scoring=\"f1\"\n",
    ")\n",
    "\n",
    "best_params, best_k = extract_params_and_k(params, MODEL_PREFIX, K_KEY)\n",
    "\n",
    "print(f\"Best params: {best_params}\")\n",
    "print(f\"Best k: {best_k}\")"
   ]
  },
  {
   "cell_type": "code",
   "execution_count": 6,
   "metadata": {
    "colab": {
     "base_uri": "https://localhost:8080/"
    },
    "executionInfo": {
     "elapsed": 7,
     "status": "ok",
     "timestamp": 1743858494707,
     "user": {
      "displayName": "Kelvin Leandro",
      "userId": "17919846364529882488"
     },
     "user_tz": 180
    },
    "id": "umbdqmGZEGaI",
    "outputId": "6f746ac0-343c-43c5-87f9-36fc165c1af8"
   },
   "outputs": [
    {
     "name": "stdout",
     "output_type": "stream",
     "text": [
      "Accuracy: 80.56\n",
      "Precision: 69.23\n",
      "Recall: 75.00\n",
      "Specificity: 83.33\n",
      "F1 Score: 72.00\n",
      "Geometric Mean: 79.06\n"
     ]
    }
   ],
   "source": [
    "X_train_, X_test_ = preprocess(\n",
    "    X_train, X_test, y_train, k=best_k, reduction_type=REDUCTION_TYPE\n",
    ")\n",
    "\n",
    "\n",
    "model = LogisticRegression(\n",
    "    solver=\"liblinear\", max_iter=1000, random_state=42, **best_params\n",
    ")\n",
    "model.fit(X_train_, y_train)\n",
    "\n",
    "\n",
    "y_pred = model.predict(X_test_)\n",
    "_ = calculate_metrics(y_test, y_pred, display=True)"
   ]
  },
  {
   "cell_type": "code",
   "execution_count": 7,
   "metadata": {
    "colab": {
     "base_uri": "https://localhost:8080/",
     "height": 472
    },
    "executionInfo": {
     "elapsed": 234,
     "status": "ok",
     "timestamp": 1743858501498,
     "user": {
      "displayName": "Kelvin Leandro",
      "userId": "17919846364529882488"
     },
     "user_tz": 180
    },
    "id": "EQrbzX0aGYst",
    "outputId": "fb2becaf-a0d2-4f02-f0ad-2543e9499c66"
   },
   "outputs": [
    {
     "data": {
      "image/png": "[encoded data removed]",
      "text/plain": [
       "<Figure size 640x480 with 1 Axes>"
      ]
     },
     "metadata": {},
     "output_type": "display_data"
    }
   ],
   "source": [
    "plot_confusion_matrix(y_test, y_pred, title=\"Confusion Matrix L.R.\")"
   ]
  },
  {
   "cell_type": "code",
   "execution_count": 8,
   "metadata": {},
   "outputs": [
    {
     "name": "stdout",
     "output_type": "stream",
     "text": [
      "K-Fold Results\n",
      "Accuracy: 84.29 ± 9.74\n",
      "Precision: 74.20 ± 18.33\n",
      "Recall: 93.56 ± 5.28\n",
      "Specificity: 79.71 ± 15.37\n",
      "F1 Score: 81.22 ± 10.44\n",
      "Geometric Mean: 85.81 ± 7.44\n"
     ]
    }
   ],
   "source": [
    "metrics = get_kfold_results(\n",
    "    model=LogisticRegression(\n",
    "        solver=\"liblinear\", max_iter=1000, random_state=42, **best_params\n",
    "    ),\n",
    "    X=X_train,\n",
    "    y=y_train,\n",
    "    cv=cv,\n",
    "    best_k=best_k,\n",
    "    preprocess_reduction_type=REDUCTION_TYPE,\n",
    ")\n",
    "\n",
    "display_kfold_scores(metrics)"
   ]
  },
  {
   "cell_type": "code",
   "execution_count": 9,
   "metadata": {
    "colab": {
     "base_uri": "https://localhost:8080/"
    },
    "executionInfo": {
     "elapsed": 34,
     "status": "ok",
     "timestamp": 1743858611025,
     "user": {
      "displayName": "Kelvin Leandro",
      "userId": "17919846364529882488"
     },
     "user_tz": 180
    },
    "id": "TT65x9wyEl2h",
    "outputId": "274c511f-c147-4351-ddac-c85c883cf1d0"
   },
   "outputs": [
    {
     "name": "stdout",
     "output_type": "stream",
     "text": [
      "Best fold: 3\n",
      "Accuracy: 96.43\n",
      "Precision: 100.00\n",
      "Recall: 88.89\n",
      "Specificity: 100.00\n",
      "F1 Score: 94.12\n",
      "Geometric Mean: 94.28\n"
     ]
    }
   ],
   "source": [
    "best_fold, idx_best_fold = find_best_fold(\n",
    "    cv.split(X_train, y_train), metrics, eval_metric=\"f1\"\n",
    ")\n",
    "print(f\"Best fold: {idx_best_fold + 1}\")\n",
    "\n",
    "train_idx, test_idx = best_fold\n",
    "X_train_ = X_train[train_idx]\n",
    "X_test_ = X_train[test_idx]\n",
    "y_train_ = y_train[train_idx]\n",
    "y_test_ = y_train[test_idx]\n",
    "\n",
    "X_train_, X_test_ = preprocess(\n",
    "    X_train_, X_test_, y_train_, k=best_k, reduction_type=REDUCTION_TYPE\n",
    ")\n",
    "model = LogisticRegression(\n",
    "    solver=\"liblinear\", max_iter=1000, random_state=42, **best_params\n",
    ")\n",
    "model.fit(X_train_, y_train_)\n",
    "\n",
    "y_pred = model.predict(X_test_)\n",
    "_ = calculate_metrics(y_test_, y_pred, display=True)"
   ]
  },
  {
   "cell_type": "code",
   "execution_count": 10,
   "metadata": {
    "colab": {
     "base_uri": "https://localhost:8080/",
     "height": 472
    },
    "executionInfo": {
     "elapsed": 109,
     "status": "ok",
     "timestamp": 1743858617148,
     "user": {
      "displayName": "Kelvin Leandro",
      "userId": "17919846364529882488"
     },
     "user_tz": 180
    },
    "id": "2t853iJhWH6f",
    "outputId": "7ef7ce3e-5b28-4287-d5c2-08e470ac9f37"
   },
   "outputs": [
    {
     "data": {
      "image/png": "[encoded data removed]",
      "text/plain": [
       "<Figure size 640x480 with 1 Axes>"
      ]
     },
     "metadata": {},
     "output_type": "display_data"
    }
   ],
   "source": [
    "plot_confusion_matrix(\n",
    "    y_test_, y_pred, title=f\"Confusion Matrix L.R. (Fold {idx_best_fold + 1})\"\n",
    ")"
   ]
  },
  {
   "cell_type": "markdown",
   "metadata": {
    "id": "v1vS_4m-XgHk"
   },
   "source": [
    "## SVC\n"
   ]
  },
  {
   "cell_type": "code",
   "execution_count": 11,
   "metadata": {
    "colab": {
     "base_uri": "https://localhost:8080/"
    },
    "executionInfo": {
     "elapsed": 50693,
     "status": "ok",
     "timestamp": 1743857675853,
     "user": {
      "displayName": "Kelvin Leandro",
      "userId": "17919846364529882488"
     },
     "user_tz": 180
    },
    "id": "NrIFGCW_4SNF",
    "outputId": "f8bb8653-dfa1-49a4-b216-96d5f609f00a"
   },
   "outputs": [
    {
     "name": "stdout",
     "output_type": "stream",
     "text": [
      "Fitting 5 folds for each of 1248 candidates, totalling 6240 fits\n",
      "Best score: 0.8042160737812912\n",
      "Best params: {'C': 100, 'class_weight': 'balanced', 'gamma': 'scale', 'kernel': 'linear'}\n",
      "Best k: 10\n"
     ]
    }
   ],
   "source": [
    "pipeline = Pipeline(\n",
    "    [\n",
    "        (\"scaler\", StandardScaler()),\n",
    "        (\"select\", SELECTOR),\n",
    "        (\"clf\", SVC(random_state=42)),\n",
    "    ]\n",
    ")\n",
    "\n",
    "param_grid = {\n",
    "    'select__k': [10, 20, 30, 40, 50, 60, 70, 80, 90, 100, 110, 120, X.shape[-1]],\n",
    "    'clf__kernel': ['linear', 'poly', 'rbf', 'sigmoid'],\n",
    "    'clf__C': [0.001, 0.01, 0.1, 1, 10, 100],\n",
    "    'clf__gamma': ['scale', 'auto'],\n",
    "    'clf__class_weight': [None, 'balanced']\n",
    "}\n",
    "\n",
    "params = apply_grid_search(\n",
    "    X_train, y_train, estimator=pipeline, param_grid=param_grid, scoring=\"f1\"\n",
    ")\n",
    "\n",
    "best_params, best_k = extract_params_and_k(params, MODEL_PREFIX, K_KEY)\n",
    "\n",
    "print(f\"Best params: {best_params}\")\n",
    "print(f\"Best k: {best_k}\")"
   ]
  },
  {
   "cell_type": "code",
   "execution_count": 12,
   "metadata": {
    "colab": {
     "base_uri": "https://localhost:8080/"
    },
    "executionInfo": {
     "elapsed": 13,
     "status": "ok",
     "timestamp": 1743857675858,
     "user": {
      "displayName": "Kelvin Leandro",
      "userId": "17919846364529882488"
     },
     "user_tz": 180
    },
    "id": "qTvjsjzo8c5L",
    "outputId": "750cdba7-7d1f-41f8-8203-d4e00c951f6e"
   },
   "outputs": [
    {
     "name": "stdout",
     "output_type": "stream",
     "text": [
      "Accuracy: 80.56\n",
      "Precision: 66.67\n",
      "Recall: 83.33\n",
      "Specificity: 79.17\n",
      "F1 Score: 74.07\n",
      "Geometric Mean: 81.22\n"
     ]
    }
   ],
   "source": [
    "X_train_, X_test_ = preprocess(\n",
    "    X_train, X_test, y_train, k=best_k, reduction_type=REDUCTION_TYPE\n",
    ")\n",
    "\n",
    "\n",
    "model = SVC(random_state=42, **best_params)\n",
    "\n",
    "\n",
    "model.fit(X_train_, y_train)\n",
    "\n",
    "\n",
    "y_pred = model.predict(X_test_)\n",
    "\n",
    "\n",
    "_ = calculate_metrics(y_test, y_pred, display=True)"
   ]
  },
  {
   "cell_type": "code",
   "execution_count": 13,
   "metadata": {
    "colab": {
     "base_uri": "https://localhost:8080/",
     "height": 472
    },
    "executionInfo": {
     "elapsed": 36,
     "status": "ok",
     "timestamp": 1743857675888,
     "user": {
      "displayName": "Kelvin Leandro",
      "userId": "17919846364529882488"
     },
     "user_tz": 180
    },
    "id": "u1ycwK05GcDh",
    "outputId": "901f8563-9e72-4794-d950-a9539e8a3f03"
   },
   "outputs": [
    {
     "data": {
      "image/png": "[encoded data removed]",
      "text/plain": [
       "<Figure size 640x480 with 1 Axes>"
      ]
     },
     "metadata": {},
     "output_type": "display_data"
    }
   ],
   "source": [
    "plot_confusion_matrix(y_test, y_pred, title=\"Confusion Matrix SVM\")"
   ]
  },
  {
   "cell_type": "code",
   "execution_count": 14,
   "metadata": {},
   "outputs": [
    {
     "name": "stdout",
     "output_type": "stream",
     "text": [
      "K-Fold Results\n",
      "Accuracy: 83.57 ± 10.97\n",
      "Precision: 71.72 ± 17.40\n",
      "Recall: 93.56 ± 5.28\n",
      "Specificity: 78.60 ± 14.00\n",
      "F1 Score: 80.42 ± 12.70\n",
      "Geometric Mean: 85.55 ± 9.68\n"
     ]
    }
   ],
   "source": [
    "metrics = get_kfold_results(\n",
    "    model=SVC(random_state=42, **best_params),\n",
    "    X=X_train,\n",
    "    y=y_train,\n",
    "    cv=cv,\n",
    "    best_k=best_k,\n",
    "    preprocess_reduction_type=REDUCTION_TYPE,\n",
    ")\n",
    "\n",
    "display_kfold_scores(metrics)"
   ]
  },
  {
   "cell_type": "code",
   "execution_count": 15,
   "metadata": {
    "colab": {
     "base_uri": "https://localhost:8080/"
    },
    "executionInfo": {
     "elapsed": 9,
     "status": "ok",
     "timestamp": 1743857676018,
     "user": {
      "displayName": "Kelvin Leandro",
      "userId": "17919846364529882488"
     },
     "user_tz": 180
    },
    "id": "Lw9NvRB0bhf2",
    "outputId": "80ab99d3-5dc2-40a1-85ba-008e72c71615"
   },
   "outputs": [
    {
     "name": "stdout",
     "output_type": "stream",
     "text": [
      "Best fold: 3\n",
      "Accuracy: 100.00\n",
      "Precision: 100.00\n",
      "Recall: 100.00\n",
      "Specificity: 100.00\n",
      "F1 Score: 100.00\n",
      "Geometric Mean: 100.00\n"
     ]
    }
   ],
   "source": [
    "best_fold, idx_best_fold = find_best_fold(\n",
    "    cv.split(X_train, y_train), metrics, eval_metric=\"f1\"\n",
    ")\n",
    "print(f\"Best fold: {idx_best_fold + 1}\")\n",
    "\n",
    "train_idx, test_idx = best_fold\n",
    "X_train_ = X_train[train_idx]\n",
    "X_test_ = X_train[test_idx]\n",
    "y_train_ = y_train[train_idx]\n",
    "y_test_ = y_train[test_idx]\n",
    "\n",
    "X_train_, X_test_ = preprocess(\n",
    "    X_train_, X_test_, y_train_, k=best_k, reduction_type=REDUCTION_TYPE\n",
    ")\n",
    "model = SVC(random_state=42, **best_params)\n",
    "model.fit(X_train_, y_train_)\n",
    "\n",
    "y_pred = model.predict(X_test_)\n",
    "_ = calculate_metrics(y_test_, y_pred, display=True)"
   ]
  },
  {
   "cell_type": "code",
   "execution_count": 16,
   "metadata": {
    "colab": {
     "base_uri": "https://localhost:8080/",
     "height": 472
    },
    "executionInfo": {
     "elapsed": 68,
     "status": "ok",
     "timestamp": 1743857676087,
     "user": {
      "displayName": "Kelvin Leandro",
      "userId": "17919846364529882488"
     },
     "user_tz": 180
    },
    "id": "w29YvaEob6cC",
    "outputId": "1f751a2c-14ab-481c-d23f-51729f3b1e73"
   },
   "outputs": [
    {
     "data": {
      "image/png": "[encoded data removed]",
      "text/plain": [
       "<Figure size 640x480 with 1 Axes>"
      ]
     },
     "metadata": {},
     "output_type": "display_data"
    }
   ],
   "source": [
    "plot_confusion_matrix(\n",
    "    y_test_, y_pred, title=f\"Confusion Matrix SVM (Fold {idx_best_fold + 1})\"\n",
    ")"
   ]
  },
  {
   "cell_type": "markdown",
   "metadata": {
    "id": "fR75nxxftlxy"
   },
   "source": [
    "## KNN\n"
   ]
  },
  {
   "cell_type": "code",
   "execution_count": 17,
   "metadata": {
    "colab": {
     "base_uri": "https://localhost:8080/"
    },
    "executionInfo": {
     "elapsed": 12267,
     "status": "ok",
     "timestamp": 1743857688356,
     "user": {
      "displayName": "Kelvin Leandro",
      "userId": "17919846364529882488"
     },
     "user_tz": 180
    },
    "id": "nrk9A6jF81jm",
    "outputId": "30ebf271-17fc-413e-996b-ceca0192d6fd"
   },
   "outputs": [
    {
     "name": "stdout",
     "output_type": "stream",
     "text": [
      "Fitting 5 folds for each of 468 candidates, totalling 2340 fits\n",
      "Best score: 0.6199847444698703\n",
      "Best params: {'n_neighbors': 3, 'p': 3, 'weights': 'distance'}\n",
      "Best k: 10\n"
     ]
    }
   ],
   "source": [
    "pipeline = Pipeline(\n",
    "    [\n",
    "        (\"scaler\", StandardScaler()),\n",
    "        (\"select\", SELECTOR),\n",
    "        (\"clf\", KNeighborsClassifier()),\n",
    "    ]\n",
    ")\n",
    "\n",
    "param_grid = {\n",
    "    'select__k': [10, 20, 30, 40, 50, 60, 70, 80, 90, 100, 110, 120, X.shape[-1]],\n",
    "    'clf__n_neighbors': [3, 5, 7, 9, 11, 13],\n",
    "    'clf__weights': ['uniform', 'distance'],\n",
    "    'clf__p': [1, 2, 3],\n",
    "}\n",
    "\n",
    "params = apply_grid_search(\n",
    "    X_train, y_train, estimator=pipeline, param_grid=param_grid, scoring=\"f1\"\n",
    ")\n",
    "\n",
    "best_params, best_k = extract_params_and_k(params, MODEL_PREFIX, K_KEY)\n",
    "\n",
    "print(f\"Best params: {best_params}\")\n",
    "print(f\"Best k: {best_k}\")"
   ]
  },
  {
   "cell_type": "code",
   "execution_count": 18,
   "metadata": {
    "colab": {
     "base_uri": "https://localhost:8080/"
    },
    "executionInfo": {
     "elapsed": 16,
     "status": "ok",
     "timestamp": 1743857688363,
     "user": {
      "displayName": "Kelvin Leandro",
      "userId": "17919846364529882488"
     },
     "user_tz": 180
    },
    "id": "6Jo-tU64_b5K",
    "outputId": "8aeeca7c-ae07-4237-fd43-9f57a28255f7"
   },
   "outputs": [
    {
     "name": "stdout",
     "output_type": "stream",
     "text": [
      "Accuracy: 75.00\n",
      "Precision: 66.67\n",
      "Recall: 50.00\n",
      "Specificity: 87.50\n",
      "F1 Score: 57.14\n",
      "Geometric Mean: 66.14\n"
     ]
    }
   ],
   "source": [
    "X_train_, X_test_ = preprocess(\n",
    "    X_train, X_test, y_train, k=best_k, reduction_type=REDUCTION_TYPE\n",
    ")\n",
    "\n",
    "\n",
    "model = KNeighborsClassifier(**best_params)\n",
    "\n",
    "model.fit(X_train_, y_train)\n",
    "\n",
    "\n",
    "y_pred = model.predict(X_test_)\n",
    "\n",
    "_ = calculate_metrics(y_test, y_pred, display=True)"
   ]
  },
  {
   "cell_type": "code",
   "execution_count": 19,
   "metadata": {
    "colab": {
     "base_uri": "https://localhost:8080/",
     "height": 472
    },
    "executionInfo": {
     "elapsed": 94,
     "status": "ok",
     "timestamp": 1743857688448,
     "user": {
      "displayName": "Kelvin Leandro",
      "userId": "17919846364529882488"
     },
     "user_tz": 180
    },
    "id": "enhzEeaktur5",
    "outputId": "0675601d-5f58-40aa-89b4-e24f1a58b081"
   },
   "outputs": [
    {
     "data": {
      "image/png": "[encoded data removed]",
      "text/plain": [
       "<Figure size 640x480 with 1 Axes>"
      ]
     },
     "metadata": {},
     "output_type": "display_data"
    }
   ],
   "source": [
    "plot_confusion_matrix(y_test, y_pred, \"Confusion matrix KNN\")"
   ]
  },
  {
   "cell_type": "code",
   "execution_count": 20,
   "metadata": {
    "colab": {
     "base_uri": "https://localhost:8080/"
    },
    "executionInfo": {
     "elapsed": 105,
     "status": "ok",
     "timestamp": 1743857688558,
     "user": {
      "displayName": "Kelvin Leandro",
      "userId": "17919846364529882488"
     },
     "user_tz": 180
    },
    "id": "cisLcp2G_lnT",
    "outputId": "22ebd331-8356-4889-c172-a0a6f58101a4"
   },
   "outputs": [
    {
     "name": "stdout",
     "output_type": "stream",
     "text": [
      "K-Fold Results\n",
      "Accuracy: 73.57 ± 4.84\n",
      "Precision: 61.67 ± 10.00\n",
      "Recall: 64.00 ± 7.75\n",
      "Specificity: 78.65 ± 9.19\n",
      "F1 Score: 62.00 ± 5.18\n",
      "Geometric Mean: 70.55 ± 3.71\n"
     ]
    }
   ],
   "source": [
    "metrics = get_kfold_results(\n",
    "    model=KNeighborsClassifier(**best_params),\n",
    "    X=X_train,\n",
    "    y=y_train,\n",
    "    cv=cv,\n",
    "    best_k=best_k,\n",
    "    preprocess_reduction_type=REDUCTION_TYPE,\n",
    ")\n",
    "\n",
    "display_kfold_scores(metrics)"
   ]
  },
  {
   "cell_type": "code",
   "execution_count": 21,
   "metadata": {
    "colab": {
     "base_uri": "https://localhost:8080/"
    },
    "executionInfo": {
     "elapsed": 10,
     "status": "ok",
     "timestamp": 1743857688580,
     "user": {
      "displayName": "Kelvin Leandro",
      "userId": "17919846364529882488"
     },
     "user_tz": 180
    },
    "id": "wzbNz4mo_z1v",
    "outputId": "f0bb7b4e-e4a5-474c-8194-f3ab8adecf3b"
   },
   "outputs": [
    {
     "name": "stdout",
     "output_type": "stream",
     "text": [
      "Best fold: 4\n",
      "Accuracy: 78.57\n",
      "Precision: 75.00\n",
      "Recall: 60.00\n",
      "Specificity: 88.89\n",
      "F1 Score: 66.67\n",
      "Geometric Mean: 73.03\n"
     ]
    }
   ],
   "source": [
    "best_fold, idx_best_fold = find_best_fold(\n",
    "    cv.split(X_train, y_train), metrics, eval_metric=\"f1\"\n",
    ")\n",
    "print(f\"Best fold: {idx_best_fold + 1}\")\n",
    "\n",
    "train_idx, test_idx = best_fold\n",
    "X_train_ = X_train[train_idx]\n",
    "X_test_ = X_train[test_idx]\n",
    "y_train_ = y_train[train_idx]\n",
    "y_test_ = y_train[test_idx]\n",
    "\n",
    "X_train_, X_test_ = preprocess(\n",
    "    X_train_, X_test_, y_train_, k=best_k, reduction_type=REDUCTION_TYPE\n",
    ")\n",
    "model = KNeighborsClassifier(**best_params)\n",
    "model.fit(X_train_, y_train_)\n",
    "\n",
    "y_pred = model.predict(X_test_)\n",
    "_ = calculate_metrics(y_test_, y_pred, display=True)"
   ]
  },
  {
   "cell_type": "code",
   "execution_count": 22,
   "metadata": {
    "colab": {
     "base_uri": "https://localhost:8080/",
     "height": 472
    },
    "executionInfo": {
     "elapsed": 92,
     "status": "ok",
     "timestamp": 1743857688673,
     "user": {
      "displayName": "Kelvin Leandro",
      "userId": "17919846364529882488"
     },
     "user_tz": 180
    },
    "id": "VXmIM5udFYnE",
    "outputId": "634e9e54-09d8-4063-bb24-a4eeb1f32815"
   },
   "outputs": [
    {
     "data": {
      "image/png": "[encoded data removed]",
      "text/plain": [
       "<Figure size 640x480 with 1 Axes>"
      ]
     },
     "metadata": {},
     "output_type": "display_data"
    }
   ],
   "source": [
    "plot_confusion_matrix(\n",
    "    y_test_, y_pred, title=f\"Confusion Matrix KNN (Fold {idx_best_fold + 1})\"\n",
    ")"
   ]
  }
 ],
 "metadata": {
  "colab": {
   "authorship_tag": "ABX9TyMfNYgi7jEr3xKtiouAm1u3",
   "mount_file_id": "1GPfqLHOMjas21pihWyr6RVYfm6i8O9VJ",
   "provenance": []
  },
  "kernelspec": {
   "display_name": ".venv",
   "language": "python",
   "name": "python3"
  },
  "language_info": {
   "codemirror_mode": {
    "name": "ipython",
    "version": 3
   },
   "file_extension": ".py",
   "mimetype": "text/x-python",
   "name": "python",
   "nbconvert_exporter": "python",
   "pygments_lexer": "ipython3",
   "version": "3.11.4"
  }
 },
 "nbformat": 4,
 "nbformat_minor": 0
}
