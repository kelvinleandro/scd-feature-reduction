{
 "cells": [
  {
   "cell_type": "code",
   "execution_count": 1,
   "metadata": {
    "executionInfo": {
     "elapsed": 16274,
     "status": "ok",
     "timestamp": 1745180958352,
     "user": {
      "displayName": "Kelvin Leandro",
      "userId": "17919846364529882488"
     },
     "user_tz": 180
    },
    "id": "Xagvt-sjAoOo"
   },
   "outputs": [
    {
     "name": "stderr",
     "output_type": "stream",
     "text": [
      "2025-04-22 17:18:35.158123: E external/local_xla/xla/stream_executor/cuda/cuda_fft.cc:467] Unable to register cuFFT factory: Attempting to register factory for plugin cuFFT when one has already been registered\n",
      "WARNING: All log messages before absl::InitializeLog() is called are written to STDERR\n",
      "E0000 00:00:1745353115.169576 1566159 cuda_dnn.cc:8579] Unable to register cuDNN factory: Attempting to register factory for plugin cuDNN when one has already been registered\n",
      "E0000 00:00:1745353115.173030 1566159 cuda_blas.cc:1407] Unable to register cuBLAS factory: Attempting to register factory for plugin cuBLAS when one has already been registered\n",
      "W0000 00:00:1745353115.183889 1566159 computation_placer.cc:177] computation placer already registered. Please check linkage and avoid linking the same target more than once.\n",
      "W0000 00:00:1745353115.183902 1566159 computation_placer.cc:177] computation placer already registered. Please check linkage and avoid linking the same target more than once.\n",
      "W0000 00:00:1745353115.183904 1566159 computation_placer.cc:177] computation placer already registered. Please check linkage and avoid linking the same target more than once.\n",
      "W0000 00:00:1745353115.183905 1566159 computation_placer.cc:177] computation placer already registered. Please check linkage and avoid linking the same target more than once.\n",
      "2025-04-22 17:18:35.186983: I tensorflow/core/platform/cpu_feature_guard.cc:210] This TensorFlow binary is optimized to use available CPU instructions in performance-critical operations.\n",
      "To enable the following instructions: AVX2 FMA, in other operations, rebuild TensorFlow with the appropriate compiler flags.\n"
     ]
    }
   ],
   "source": [
    "import pandas as pd\n",
    "import numpy as np\n",
    "import matplotlib.pyplot as plt\n",
    "import seaborn as sns\n",
    "\n",
    "from sklearn.model_selection import train_test_split\n",
    "from sklearn.preprocessing import StandardScaler\n",
    "from sklearn.metrics import confusion_matrix, f1_score, precision_score, recall_score, roc_auc_score\n",
    "from sklearn.utils.class_weight import compute_class_weight, compute_sample_weight\n",
    "\n",
    "import os\n",
    "os.environ[\"CUDA_VISIBLE_DEVICES\"] = \"-1\"  # Disable GPU\n",
    "\n",
    "import tensorflow as tf\n",
    "from tensorflow.keras.initializers import he_normal, glorot_uniform\n",
    "import tensorflow.keras.metrics as tkm\n",
    "from tensorflow.keras import Sequential, Model\n",
    "from tensorflow.keras.optimizers import Adam\n",
    "from tensorflow.keras.layers import Input, Dense, Dropout, BatchNormalization, Activation\n",
    "from tensorflow.keras.callbacks import ModelCheckpoint, EarlyStopping, ReduceLROnPlateau\n",
    "\n",
    "from itertools import product\n",
    "from tqdm import tqdm\n",
    "\n",
    "SEED = 42\n",
    "\n",
    "# Set the seed using keras.utils.set_random_seed. This will set:\n",
    "# 1) `numpy` seed\n",
    "# 2) backend random seed\n",
    "# 3) `python` random seed\n",
    "tf.keras.utils.set_random_seed(SEED)\n",
    "\n",
    "# If using TensorFlow, this will make GPU ops as deterministic as possible,\n",
    "# but it will affect the overall performance, so be mindful of that.\n",
    "# tf.config.experimental.enable_op_determinism()"
   ]
  },
  {
   "cell_type": "code",
   "execution_count": 2,
   "metadata": {
    "id": "Od0A75rVClxr"
   },
   "outputs": [
    {
     "name": "stdout",
     "output_type": "stream",
     "text": [
      "Available devices: [PhysicalDevice(name='/physical_device:CPU:0', device_type='CPU')]\n",
      "Num GPUs Available:  0\n"
     ]
    },
    {
     "name": "stderr",
     "output_type": "stream",
     "text": [
      "2025-04-22 17:18:36.808799: E external/local_xla/xla/stream_executor/cuda/cuda_platform.cc:51] failed call to cuInit: INTERNAL: CUDA error: Failed call to cuInit: CUDA_ERROR_NO_DEVICE: no CUDA-capable device is detected\n",
      "2025-04-22 17:18:36.808819: I external/local_xla/xla/stream_executor/cuda/cuda_diagnostics.cc:167] env: CUDA_VISIBLE_DEVICES=\"-1\"\n",
      "2025-04-22 17:18:36.808824: I external/local_xla/xla/stream_executor/cuda/cuda_diagnostics.cc:170] CUDA_VISIBLE_DEVICES is set to -1 - this hides all GPUs from CUDA\n",
      "2025-04-22 17:18:36.808826: I external/local_xla/xla/stream_executor/cuda/cuda_diagnostics.cc:178] verbose logging is disabled. Rerun with verbose logging (usually --v=1 or --vmodule=cuda_diagnostics=1) to get more diagnostic output from this module\n",
      "2025-04-22 17:18:36.808830: I external/local_xla/xla/stream_executor/cuda/cuda_diagnostics.cc:183] retrieving CUDA diagnostic information for host: insightlab-System-Product-Name\n",
      "2025-04-22 17:18:36.808832: I external/local_xla/xla/stream_executor/cuda/cuda_diagnostics.cc:190] hostname: insightlab-System-Product-Name\n",
      "2025-04-22 17:18:36.808963: I external/local_xla/xla/stream_executor/cuda/cuda_diagnostics.cc:197] libcuda reported version is: 560.35.3\n",
      "2025-04-22 17:18:36.808978: I external/local_xla/xla/stream_executor/cuda/cuda_diagnostics.cc:201] kernel reported version is: 560.35.3\n",
      "2025-04-22 17:18:36.808980: I external/local_xla/xla/stream_executor/cuda/cuda_diagnostics.cc:291] kernel version seems to match DSO: 560.35.3\n"
     ]
    }
   ],
   "source": [
    "# check GPUs\n",
    "print(\"Available devices:\", tf.config.list_physical_devices())\n",
    "print(\"Num GPUs Available: \", len(tf.config.list_physical_devices('GPU')))"
   ]
  },
  {
   "cell_type": "markdown",
   "metadata": {
    "id": "qG-EgbR5GXvq"
   },
   "source": [
    "## Reading Data"
   ]
  },
  {
   "cell_type": "code",
   "execution_count": 3,
   "metadata": {
    "colab": {
     "base_uri": "https://localhost:8080/"
    },
    "executionInfo": {
     "elapsed": 999,
     "status": "ok",
     "timestamp": 1745180959354,
     "user": {
      "displayName": "Kelvin Leandro",
      "userId": "17919846364529882488"
     },
     "user_tz": 180
    },
    "id": "59s4WpoYBah_",
    "outputId": "844cdb60-523e-4246-9a46-311a73ea80e7"
   },
   "outputs": [
    {
     "data": {
      "text/plain": [
       "(176, 68)"
      ]
     },
     "execution_count": 3,
     "metadata": {},
     "output_type": "execute_result"
    }
   ],
   "source": [
    "df = pd.read_csv('data/time_domain_features_holter_v2.csv')\n",
    "y = df['died'].values.copy().reshape(-1, 1)\n",
    "X = df.drop(['died', 'ID'], axis=1).values.copy()\n",
    "\n",
    "# train-val-test split\n",
    "X_train, X_val_test, y_train, y_val_test = train_test_split(X, y, test_size=0.3, stratify=y, random_state=SEED)\n",
    "# val-test-split\n",
    "X_val, X_test, y_val, y_test = train_test_split(X_val_test, y_val_test, test_size=0.5, stratify=y_val_test, random_state=SEED)\n",
    "\n",
    "# train-test split\n",
    "# X_train, X_test, y_train, y_test = train_test_split(X, y, test_size=0.3, stratify=y, random_state=SEED)\n",
    "\n",
    "# standardization\n",
    "scaler = StandardScaler()\n",
    "X_train = scaler.fit_transform(X_train)\n",
    "X_val = scaler.transform(X_val)\n",
    "X_test = scaler.transform(X_test)\n",
    "\n",
    "X.shape"
   ]
  },
  {
   "cell_type": "code",
   "execution_count": 4,
   "metadata": {
    "colab": {
     "base_uri": "https://localhost:8080/"
    },
    "executionInfo": {
     "elapsed": 4,
     "status": "ok",
     "timestamp": 1745180959382,
     "user": {
      "displayName": "Kelvin Leandro",
      "userId": "17919846364529882488"
     },
     "user_tz": 180
    },
    "id": "4CELAD333GBf",
    "outputId": "35ac7ee1-f310-44d7-c053-8a9e762021b6"
   },
   "outputs": [
    {
     "data": {
      "text/plain": [
       "array([0.75, 0.75, 0.75, 0.75, 0.75, 0.75, 1.5 , 0.75, 0.75, 0.75, 0.75,\n",
       "       0.75, 0.75, 1.5 , 0.75, 1.5 , 0.75, 0.75, 1.5 , 0.75, 0.75, 0.75,\n",
       "       0.75, 0.75, 1.5 , 0.75, 1.5 , 0.75, 0.75, 1.5 , 0.75, 1.5 , 0.75,\n",
       "       1.5 , 0.75, 0.75, 0.75, 0.75, 0.75, 0.75, 0.75, 0.75, 0.75, 0.75,\n",
       "       1.5 , 0.75, 0.75, 0.75, 0.75, 1.5 , 1.5 , 1.5 , 0.75, 0.75, 0.75,\n",
       "       0.75, 0.75, 1.5 , 0.75, 1.5 , 0.75, 1.5 , 0.75, 0.75, 0.75, 0.75,\n",
       "       0.75, 0.75, 0.75, 1.5 , 1.5 , 1.5 , 0.75, 0.75, 0.75, 1.5 , 0.75,\n",
       "       1.5 , 1.5 , 1.5 , 0.75, 1.5 , 0.75, 0.75, 0.75, 1.5 , 0.75, 1.5 ,\n",
       "       0.75, 1.5 , 0.75, 0.75, 0.75, 0.75, 1.5 , 0.75, 0.75, 1.5 , 0.75,\n",
       "       1.5 , 0.75, 0.75, 1.5 , 0.75, 1.5 , 0.75, 1.5 , 0.75, 0.75, 1.5 ,\n",
       "       1.5 , 1.5 , 1.5 , 1.5 , 0.75, 0.75, 0.75, 1.5 , 0.75, 1.5 , 1.5 ,\n",
       "       0.75, 0.75])"
      ]
     },
     "execution_count": 4,
     "metadata": {},
     "output_type": "execute_result"
    }
   ],
   "source": [
    "class_weights = compute_class_weight(class_weight='balanced', classes=np.unique(y_train), y=y_train.ravel())\n",
    "sample_weights = compute_sample_weight(class_weight='balanced', y=y_train.ravel())\n",
    "sample_weights"
   ]
  },
  {
   "cell_type": "code",
   "execution_count": 6,
   "metadata": {
    "colab": {
     "base_uri": "https://localhost:8080/"
    },
    "executionInfo": {
     "elapsed": 7,
     "status": "ok",
     "timestamp": 1745005784152,
     "user": {
      "displayName": "Kelvin Leandro",
      "userId": "17919846364529882488"
     },
     "user_tz": 180
    },
    "id": "ExNRZC1qQl2M",
    "outputId": "f02300a4-fe99-46bc-f4bb-5c0e2b327edf"
   },
   "outputs": [
    {
     "name": "stdout",
     "output_type": "stream",
     "text": [
      "Total combinations: 468\n"
     ]
    }
   ],
   "source": [
    "param_grid = {\n",
    "    'hidden_layers': [\n",
    "        [16],\n",
    "        [32],\n",
    "        [64],\n",
    "        [128],\n",
    "        [256],\n",
    "        [256, 128],\n",
    "        [128, 64],\n",
    "        [64, 32],\n",
    "        [32, 16],\n",
    "        [16, 8],\n",
    "        [128, 64, 32],\n",
    "        [64, 32, 16],\n",
    "        [32, 16, 8],\n",
    "    ],\n",
    "    'dropout': [0., 0.3, 0.5],\n",
    "    'batch_norm': [True, False],\n",
    "    'lr': [0.01, 0.001, 0.0001],\n",
    "    'batch_size': [8, 16]\n",
    "}\n",
    "combinations = list(product(*param_grid.values()))\n",
    "param_names = list(param_grid.keys())\n",
    "print(f'Total combinations: {len(combinations)}')"
   ]
  },
  {
   "cell_type": "code",
   "execution_count": 4,
   "metadata": {
    "colab": {
     "base_uri": "https://localhost:8080/"
    },
    "executionInfo": {
     "elapsed": 43,
     "status": "ok",
     "timestamp": 1745180972498,
     "user": {
      "displayName": "Kelvin Leandro",
      "userId": "17919846364529882488"
     },
     "user_tz": 180
    },
    "id": "yVcsVSdl4_rI",
    "outputId": "d1040da5-b495-4d12-f910-752097ae0c32"
   },
   "outputs": [
    {
     "name": "stdout",
     "output_type": "stream",
     "text": [
      "Total combinations: 48\n"
     ]
    }
   ],
   "source": [
    "# Reduced param grid (just to see if it works)\n",
    "param_grid = {\n",
    "    'hidden_layers': [\n",
    "        [16],\n",
    "        [32],\n",
    "    ],\n",
    "    'dropout': [0., 0.3],\n",
    "    'batch_norm': [True, False],\n",
    "    'lr': [0.01, 0.001],\n",
    "    'batch_size': [8, 16]\n",
    "}\n",
    "combinations = list(product(*param_grid.values()))\n",
    "param_names = list(param_grid.keys())\n",
    "print(f'Total combinations: {len(combinations)}')"
   ]
  },
  {
   "cell_type": "markdown",
   "metadata": {
    "id": "BMnOhJQ1Gaa-"
   },
   "source": [
    "## Utils"
   ]
  },
  {
   "cell_type": "code",
   "execution_count": 5,
   "metadata": {
    "executionInfo": {
     "elapsed": 2,
     "status": "ok",
     "timestamp": 1745180977435,
     "user": {
      "displayName": "Kelvin Leandro",
      "userId": "17919846364529882488"
     },
     "user_tz": 180
    },
    "id": "ILzxmpKSCDHt"
   },
   "outputs": [],
   "source": [
    "def create_classifier(\n",
    "    *,\n",
    "    hidden_layers: list[int],\n",
    "    input_size: int,\n",
    "    dropout_rate: float,\n",
    "    batch_norm: bool,\n",
    ") -> Model:\n",
    "    inputs = Input(shape=(input_size,))\n",
    "\n",
    "    for hidden_units in hidden_layers:\n",
    "        x = Dense(hidden_units, kernel_initializer='he_normal')(inputs)\n",
    "        # x = Dense(hidden_units, kernel_initializer=he_normal(seed=SEED))(inputs)\n",
    "        if batch_norm:\n",
    "            x = BatchNormalization()(x)\n",
    "        x = Activation('relu')(x)\n",
    "        x = Dropout(dropout_rate)(x)\n",
    "\n",
    "    outputs = Dense(1, activation='sigmoid', kernel_initializer='glorot_uniform')(x)\n",
    "    # outputs = Dense(1, activation='sigmoid', kernel_initializer=glorot_uniform())(x)\n",
    "\n",
    "    model = Model(inputs=inputs, outputs=outputs)\n",
    "\n",
    "    return model"
   ]
  },
  {
   "cell_type": "code",
   "execution_count": 6,
   "metadata": {
    "executionInfo": {
     "elapsed": 7,
     "status": "ok",
     "timestamp": 1745180986480,
     "user": {
      "displayName": "Kelvin Leandro",
      "userId": "17919846364529882488"
     },
     "user_tz": 180
    },
    "id": "qzqzA5QN5jkV"
   },
   "outputs": [],
   "source": [
    "class F1Score(tkm.Metric):\n",
    "    def __init__(self, name=\"f1_score\", threshold=0.5, **kwargs):\n",
    "        super(F1Score, self).__init__(name=name, **kwargs)\n",
    "        self.threshold = threshold\n",
    "        self.tp = self.add_weight(name=\"tp\", initializer=\"zeros\")\n",
    "        self.fp = self.add_weight(name=\"fp\", initializer=\"zeros\")\n",
    "        self.fn = self.add_weight(name=\"fn\", initializer=\"zeros\")\n",
    "\n",
    "    def update_state(self, y_true, y_pred, sample_weight=None):\n",
    "        # If one-hot encoded, convert to class indices\n",
    "        if len(y_true.shape) > 1 and y_true.shape[-1] > 1:\n",
    "            y_true = tf.argmax(y_true, axis=-1)\n",
    "            y_pred = tf.argmax(y_pred, axis=-1)\n",
    "        else:\n",
    "            y_pred = tf.cast(y_pred > self.threshold, tf.float32)\n",
    "\n",
    "        y_true = tf.cast(y_true, tf.float32)\n",
    "        y_pred = tf.cast(y_pred, tf.float32)\n",
    "\n",
    "        tp = tf.reduce_sum(tf.cast((y_true == 1) & (y_pred == 1), tf.float32))\n",
    "        fp = tf.reduce_sum(tf.cast((y_true == 0) & (y_pred == 1), tf.float32))\n",
    "        fn = tf.reduce_sum(tf.cast((y_true == 1) & (y_pred == 0), tf.float32))\n",
    "\n",
    "        self.tp.assign_add(tp)\n",
    "        self.fp.assign_add(fp)\n",
    "        self.fn.assign_add(fn)\n",
    "\n",
    "    def result(self):\n",
    "        precision = self.tp / (self.tp + self.fp + tf.keras.backend.epsilon())\n",
    "        recall = self.tp / (self.tp + self.fn + tf.keras.backend.epsilon())\n",
    "        return 2 * (precision * recall) / (precision + recall + tf.keras.backend.epsilon())\n",
    "\n",
    "    def reset_state(self):\n",
    "        self.tp.assign(0)\n",
    "        self.fp.assign(0)\n",
    "        self.fn.assign(0)"
   ]
  },
  {
   "cell_type": "code",
   "execution_count": 7,
   "metadata": {
    "executionInfo": {
     "elapsed": 3,
     "status": "ok",
     "timestamp": 1745180988121,
     "user": {
      "displayName": "Kelvin Leandro",
      "userId": "17919846364529882488"
     },
     "user_tz": 180
    },
    "id": "JhitOzbQGclf"
   },
   "outputs": [],
   "source": [
    "class Specificity(tkm.Metric):\n",
    "    def __init__(self, name=\"specificity\", threshold=0.5, **kwargs):\n",
    "        super(Specificity, self).__init__(name=name, **kwargs)\n",
    "        self.threshold = threshold\n",
    "        self.tn = self.add_weight(name=\"tn\", initializer=\"zeros\")\n",
    "        self.fp = self.add_weight(name=\"fp\", initializer=\"zeros\")\n",
    "\n",
    "    def update_state(self, y_true, y_pred, sample_weight=None):\n",
    "        # If one-hot encoded, convert to class indices\n",
    "        if len(y_true.shape) > 1 and y_true.shape[-1] > 1:\n",
    "            y_true = tf.argmax(y_true, axis=-1)\n",
    "            y_pred = tf.argmax(y_pred, axis=-1)\n",
    "        else:\n",
    "            y_pred = tf.cast(\n",
    "                y_pred > self.threshold, tf.float32\n",
    "            )  # Convert probabilities to binary values\n",
    "\n",
    "        y_true = tf.cast(y_true, tf.float32)\n",
    "        y_pred = tf.cast(y_pred, tf.float32)\n",
    "\n",
    "        # Compute TN and FP\n",
    "        tn = tf.reduce_sum(tf.cast((y_true == 0) & (y_pred == 0), tf.float32))\n",
    "        fp = tf.reduce_sum(tf.cast((y_true == 0) & (y_pred == 1), tf.float32))\n",
    "\n",
    "        self.tn.assign_add(tn)\n",
    "        self.fp.assign_add(fp)\n",
    "\n",
    "    def result(self):\n",
    "        return self.tn / (self.tn + self.fp + tf.keras.backend.epsilon())\n",
    "\n",
    "    def reset_state(self):\n",
    "        self.tn.assign(0)\n",
    "        self.fp.assign(0)"
   ]
  },
  {
   "cell_type": "markdown",
   "metadata": {
    "id": "vtvI97VIHG_i"
   },
   "source": [
    "## Running model"
   ]
  },
  {
   "cell_type": "code",
   "execution_count": 13,
   "metadata": {
    "id": "rntJjvWsHL7e"
   },
   "outputs": [
    {
     "name": "stdout",
     "output_type": "stream",
     "text": [
      "Epoch 1/200\n",
      "\u001b[1m8/8\u001b[0m \u001b[32m━━━━━━━━━━━━━━━━━━━━\u001b[0m\u001b[37m\u001b[0m \u001b[1m1s\u001b[0m 36ms/step - accuracy: 0.3536 - auc: 0.4880 - f1_score: 0.5156 - loss: 1.3493 - precision: 0.3516 - recall: 0.9740 - specificity: 0.0122 - val_accuracy: 0.3462 - val_auc: 0.6863 - val_f1_score: 0.5143 - val_loss: 1.3140 - val_precision: 0.3462 - val_recall: 1.0000 - val_specificity: 0.0000e+00\n",
      "Epoch 2/200\n",
      "\u001b[1m8/8\u001b[0m \u001b[32m━━━━━━━━━━━━━━━━━━━━\u001b[0m\u001b[37m\u001b[0m \u001b[1m0s\u001b[0m 7ms/step - accuracy: 0.3776 - auc: 0.5730 - f1_score: 0.5041 - loss: 1.0591 - precision: 0.3513 - recall: 0.8973 - specificity: 0.0896 - val_accuracy: 0.3846 - val_auc: 0.6765 - val_f1_score: 0.5294 - val_loss: 1.1381 - val_precision: 0.3600 - val_recall: 1.0000 - val_specificity: 0.0588\n",
      "Epoch 3/200\n",
      "\u001b[1m8/8\u001b[0m \u001b[32m━━━━━━━━━━━━━━━━━━━━\u001b[0m\u001b[37m\u001b[0m \u001b[1m0s\u001b[0m 6ms/step - accuracy: 0.4021 - auc: 0.6349 - f1_score: 0.5000 - loss: 0.8701 - precision: 0.3558 - recall: 0.8462 - specificity: 0.1568 - val_accuracy: 0.3077 - val_auc: 0.6307 - val_f1_score: 0.4375 - val_loss: 1.0139 - val_precision: 0.3043 - val_recall: 0.7778 - val_specificity: 0.0588\n",
      "Epoch 4/200\n",
      "\u001b[1m8/8\u001b[0m \u001b[32m━━━━━━━━━━━━━━━━━━━━\u001b[0m\u001b[37m\u001b[0m \u001b[1m0s\u001b[0m 6ms/step - accuracy: 0.3974 - auc: 0.6099 - f1_score: 0.5055 - loss: 0.8183 - precision: 0.3564 - recall: 0.8736 - specificity: 0.1339 - val_accuracy: 0.3462 - val_auc: 0.5621 - val_f1_score: 0.4516 - val_loss: 0.9320 - val_precision: 0.3182 - val_recall: 0.7778 - val_specificity: 0.1176\n",
      "Epoch 5/200\n",
      "\u001b[1m8/8\u001b[0m \u001b[32m━━━━━━━━━━━━━━━━━━━━\u001b[0m\u001b[37m\u001b[0m \u001b[1m0s\u001b[0m 6ms/step - accuracy: 0.6067 - auc: 0.7440 - f1_score: 0.6228 - loss: 0.6365 - precision: 0.4713 - recall: 0.9192 - specificity: 0.4319 - val_accuracy: 0.3846 - val_auc: 0.5196 - val_f1_score: 0.4286 - val_loss: 0.8795 - val_precision: 0.3158 - val_recall: 0.6667 - val_specificity: 0.2353\n",
      "Epoch 6/200\n",
      "\u001b[1m8/8\u001b[0m \u001b[32m━━━━━━━━━━━━━━━━━━━━\u001b[0m\u001b[37m\u001b[0m \u001b[1m0s\u001b[0m 6ms/step - accuracy: 0.6019 - auc: 0.7393 - f1_score: 0.5961 - loss: 0.6302 - precision: 0.4655 - recall: 0.8325 - specificity: 0.4762 - val_accuracy: 0.4615 - val_auc: 0.5131 - val_f1_score: 0.4167 - val_loss: 0.8338 - val_precision: 0.3333 - val_recall: 0.5556 - val_specificity: 0.4118\n",
      "Epoch 7/200\n",
      "\u001b[1m8/8\u001b[0m \u001b[32m━━━━━━━━━━━━━━━━━━━━\u001b[0m\u001b[37m\u001b[0m \u001b[1m0s\u001b[0m 6ms/step - accuracy: 0.6393 - auc: 0.7088 - f1_score: 0.5762 - loss: 0.6648 - precision: 0.4943 - recall: 0.6917 - specificity: 0.6095 - val_accuracy: 0.5000 - val_auc: 0.5392 - val_f1_score: 0.4348 - val_loss: 0.8017 - val_precision: 0.3571 - val_recall: 0.5556 - val_specificity: 0.4706\n",
      "Epoch 8/200\n",
      "\u001b[1m8/8\u001b[0m \u001b[32m━━━━━━━━━━━━━━━━━━━━\u001b[0m\u001b[37m\u001b[0m \u001b[1m0s\u001b[0m 6ms/step - accuracy: 0.6778 - auc: 0.7287 - f1_score: 0.6318 - loss: 0.6567 - precision: 0.5314 - recall: 0.7880 - specificity: 0.6177 - val_accuracy: 0.5000 - val_auc: 0.5882 - val_f1_score: 0.4348 - val_loss: 0.7734 - val_precision: 0.3571 - val_recall: 0.5556 - val_specificity: 0.4706\n",
      "Epoch 9/200\n",
      "\u001b[1m8/8\u001b[0m \u001b[32m━━━━━━━━━━━━━━━━━━━━\u001b[0m\u001b[37m\u001b[0m \u001b[1m0s\u001b[0m 6ms/step - accuracy: 0.6729 - auc: 0.7699 - f1_score: 0.6196 - loss: 0.5817 - precision: 0.5270 - recall: 0.7543 - specificity: 0.6282 - val_accuracy: 0.5385 - val_auc: 0.6144 - val_f1_score: 0.4545 - val_loss: 0.7485 - val_precision: 0.3846 - val_recall: 0.5556 - val_specificity: 0.5294\n",
      "Epoch 10/200\n",
      "\u001b[1m8/8\u001b[0m \u001b[32m━━━━━━━━━━━━━━━━━━━━\u001b[0m\u001b[37m\u001b[0m \u001b[1m0s\u001b[0m 6ms/step - accuracy: 0.6834 - auc: 0.7815 - f1_score: 0.6387 - loss: 0.5780 - precision: 0.5362 - recall: 0.7927 - specificity: 0.6236 - val_accuracy: 0.5385 - val_auc: 0.6340 - val_f1_score: 0.4545 - val_loss: 0.7402 - val_precision: 0.3846 - val_recall: 0.5556 - val_specificity: 0.5294\n",
      "Epoch 11/200\n",
      "\u001b[1m8/8\u001b[0m \u001b[32m━━━━━━━━━━━━━━━━━━━━\u001b[0m\u001b[37m\u001b[0m \u001b[1m0s\u001b[0m 6ms/step - accuracy: 0.7735 - auc: 0.8369 - f1_score: 0.7444 - loss: 0.5126 - precision: 0.6201 - recall: 0.9331 - specificity: 0.6851 - val_accuracy: 0.5385 - val_auc: 0.6373 - val_f1_score: 0.4545 - val_loss: 0.7318 - val_precision: 0.3846 - val_recall: 0.5556 - val_specificity: 0.5294\n",
      "Epoch 12/200\n",
      "\u001b[1m8/8\u001b[0m \u001b[32m━━━━━━━━━━━━━━━━━━━━\u001b[0m\u001b[37m\u001b[0m \u001b[1m0s\u001b[0m 6ms/step - accuracy: 0.7734 - auc: 0.8750 - f1_score: 0.7381 - loss: 0.4795 - precision: 0.6227 - recall: 0.9087 - specificity: 0.6989 - val_accuracy: 0.5769 - val_auc: 0.6569 - val_f1_score: 0.4762 - val_loss: 0.7229 - val_precision: 0.4167 - val_recall: 0.5556 - val_specificity: 0.5882\n",
      "Epoch 13/200\n",
      "\u001b[1m8/8\u001b[0m \u001b[32m━━━━━━━━━━━━━━━━━━━━\u001b[0m\u001b[37m\u001b[0m \u001b[1m0s\u001b[0m 6ms/step - accuracy: 0.8005 - auc: 0.9165 - f1_score: 0.7581 - loss: 0.4296 - precision: 0.6609 - recall: 0.8923 - specificity: 0.7501 - val_accuracy: 0.6154 - val_auc: 0.6275 - val_f1_score: 0.5000 - val_loss: 0.7286 - val_precision: 0.4545 - val_recall: 0.5556 - val_specificity: 0.6471\n",
      "Epoch 14/200\n",
      "\u001b[1m8/8\u001b[0m \u001b[32m━━━━━━━━━━━━━━━━━━━━\u001b[0m\u001b[37m\u001b[0m \u001b[1m0s\u001b[0m 6ms/step - accuracy: 0.8124 - auc: 0.8496 - f1_score: 0.7587 - loss: 0.5173 - precision: 0.6967 - recall: 0.8355 - specificity: 0.8012 - val_accuracy: 0.6154 - val_auc: 0.6307 - val_f1_score: 0.5000 - val_loss: 0.7320 - val_precision: 0.4545 - val_recall: 0.5556 - val_specificity: 0.6471\n",
      "Epoch 15/200\n",
      "\u001b[1m8/8\u001b[0m \u001b[32m━━━━━━━━━━━━━━━━━━━━\u001b[0m\u001b[37m\u001b[0m \u001b[1m0s\u001b[0m 6ms/step - accuracy: 0.7863 - auc: 0.9181 - f1_score: 0.7296 - loss: 0.4005 - precision: 0.6613 - recall: 0.8148 - specificity: 0.7703 - val_accuracy: 0.6154 - val_auc: 0.6471 - val_f1_score: 0.5000 - val_loss: 0.7251 - val_precision: 0.4545 - val_recall: 0.5556 - val_specificity: 0.6471\n",
      "Epoch 16/200\n",
      "\u001b[1m8/8\u001b[0m \u001b[32m━━━━━━━━━━━━━━━━━━━━\u001b[0m\u001b[37m\u001b[0m \u001b[1m0s\u001b[0m 6ms/step - accuracy: 0.8210 - auc: 0.8875 - f1_score: 0.7706 - loss: 0.4376 - precision: 0.7049 - recall: 0.8544 - specificity: 0.8052 - val_accuracy: 0.6538 - val_auc: 0.6699 - val_f1_score: 0.5714 - val_loss: 0.7114 - val_precision: 0.5000 - val_recall: 0.6667 - val_specificity: 0.6471\n",
      "Epoch 17/200\n",
      "\u001b[1m8/8\u001b[0m \u001b[32m━━━━━━━━━━━━━━━━━━━━\u001b[0m\u001b[37m\u001b[0m \u001b[1m0s\u001b[0m 7ms/step - accuracy: 0.7976 - auc: 0.8398 - f1_score: 0.7462 - loss: 0.5057 - precision: 0.6709 - recall: 0.8418 - specificity: 0.7729 - val_accuracy: 0.6923 - val_auc: 0.6830 - val_f1_score: 0.6364 - val_loss: 0.6974 - val_precision: 0.5385 - val_recall: 0.7778 - val_specificity: 0.6471\n",
      "Epoch 18/200\n",
      "\u001b[1m8/8\u001b[0m \u001b[32m━━━━━━━━━━━━━━━━━━━━\u001b[0m\u001b[37m\u001b[0m \u001b[1m0s\u001b[0m 6ms/step - accuracy: 0.7981 - auc: 0.9019 - f1_score: 0.7458 - loss: 0.4149 - precision: 0.6770 - recall: 0.8324 - specificity: 0.7806 - val_accuracy: 0.6923 - val_auc: 0.7059 - val_f1_score: 0.6364 - val_loss: 0.6790 - val_precision: 0.5385 - val_recall: 0.7778 - val_specificity: 0.6471\n",
      "Epoch 19/200\n",
      "\u001b[1m8/8\u001b[0m \u001b[32m━━━━━━━━━━━━━━━━━━━━\u001b[0m\u001b[37m\u001b[0m \u001b[1m0s\u001b[0m 6ms/step - accuracy: 0.8140 - auc: 0.9042 - f1_score: 0.7698 - loss: 0.3942 - precision: 0.6831 - recall: 0.8836 - specificity: 0.7762 - val_accuracy: 0.6538 - val_auc: 0.7059 - val_f1_score: 0.5714 - val_loss: 0.6738 - val_precision: 0.5000 - val_recall: 0.6667 - val_specificity: 0.6471\n",
      "Epoch 20/200\n",
      "\u001b[1m8/8\u001b[0m \u001b[32m━━━━━━━━━━━━━━━━━━━━\u001b[0m\u001b[37m\u001b[0m \u001b[1m0s\u001b[0m 6ms/step - accuracy: 0.8024 - auc: 0.8736 - f1_score: 0.7442 - loss: 0.4416 - precision: 0.6868 - recall: 0.8143 - specificity: 0.7966 - val_accuracy: 0.6923 - val_auc: 0.7092 - val_f1_score: 0.6364 - val_loss: 0.6694 - val_precision: 0.5385 - val_recall: 0.7778 - val_specificity: 0.6471\n",
      "Epoch 21/200\n",
      "\u001b[1m8/8\u001b[0m \u001b[32m━━━━━━━━━━━━━━━━━━━━\u001b[0m\u001b[37m\u001b[0m \u001b[1m0s\u001b[0m 6ms/step - accuracy: 0.8315 - auc: 0.9062 - f1_score: 0.7755 - loss: 0.4029 - precision: 0.7305 - recall: 0.8279 - specificity: 0.8337 - val_accuracy: 0.6923 - val_auc: 0.7157 - val_f1_score: 0.6364 - val_loss: 0.6654 - val_precision: 0.5385 - val_recall: 0.7778 - val_specificity: 0.6471\n",
      "Epoch 22/200\n",
      "\u001b[1m8/8\u001b[0m \u001b[32m━━━━━━━━━━━━━━━━━━━━\u001b[0m\u001b[37m\u001b[0m \u001b[1m0s\u001b[0m 6ms/step - accuracy: 0.8410 - auc: 0.9007 - f1_score: 0.8030 - loss: 0.4047 - precision: 0.7172 - recall: 0.9137 - specificity: 0.7984 - val_accuracy: 0.6923 - val_auc: 0.7190 - val_f1_score: 0.6364 - val_loss: 0.6557 - val_precision: 0.5385 - val_recall: 0.7778 - val_specificity: 0.6471\n",
      "Epoch 23/200\n",
      "\u001b[1m8/8\u001b[0m \u001b[32m━━━━━━━━━━━━━━━━━━━━\u001b[0m\u001b[37m\u001b[0m \u001b[1m0s\u001b[0m 6ms/step - accuracy: 0.8748 - auc: 0.9404 - f1_score: 0.8412 - loss: 0.3432 - precision: 0.7565 - recall: 0.9483 - specificity: 0.8336 - val_accuracy: 0.6923 - val_auc: 0.7255 - val_f1_score: 0.6364 - val_loss: 0.6480 - val_precision: 0.5385 - val_recall: 0.7778 - val_specificity: 0.6471\n",
      "Epoch 24/200\n",
      "\u001b[1m8/8\u001b[0m \u001b[32m━━━━━━━━━━━━━━━━━━━━\u001b[0m\u001b[37m\u001b[0m \u001b[1m0s\u001b[0m 6ms/step - accuracy: 0.8627 - auc: 0.9454 - f1_score: 0.8334 - loss: 0.3349 - precision: 0.7298 - recall: 0.9740 - specificity: 0.8018 - val_accuracy: 0.7308 - val_auc: 0.7255 - val_f1_score: 0.6667 - val_loss: 0.6414 - val_precision: 0.5833 - val_recall: 0.7778 - val_specificity: 0.7059\n",
      "Epoch 25/200\n",
      "\u001b[1m8/8\u001b[0m \u001b[32m━━━━━━━━━━━━━━━━━━━━\u001b[0m\u001b[37m\u001b[0m \u001b[1m0s\u001b[0m 6ms/step - accuracy: 0.8188 - auc: 0.9283 - f1_score: 0.7699 - loss: 0.3499 - precision: 0.7016 - recall: 0.8538 - specificity: 0.7980 - val_accuracy: 0.7692 - val_auc: 0.7647 - val_f1_score: 0.7000 - val_loss: 0.6217 - val_precision: 0.6364 - val_recall: 0.7778 - val_specificity: 0.7647\n",
      "Epoch 26/200\n",
      "\u001b[1m8/8\u001b[0m \u001b[32m━━━━━━━━━━━━━━━━━━━━\u001b[0m\u001b[37m\u001b[0m \u001b[1m0s\u001b[0m 6ms/step - accuracy: 0.8638 - auc: 0.9284 - f1_score: 0.8327 - loss: 0.3675 - precision: 0.7385 - recall: 0.9580 - specificity: 0.8110 - val_accuracy: 0.7692 - val_auc: 0.7582 - val_f1_score: 0.7000 - val_loss: 0.6198 - val_precision: 0.6364 - val_recall: 0.7778 - val_specificity: 0.7647\n",
      "Epoch 27/200\n",
      "\u001b[1m8/8\u001b[0m \u001b[32m━━━━━━━━━━━━━━━━━━━━\u001b[0m\u001b[37m\u001b[0m \u001b[1m0s\u001b[0m 6ms/step - accuracy: 0.8228 - auc: 0.9409 - f1_score: 0.7811 - loss: 0.3406 - precision: 0.6949 - recall: 0.8928 - specificity: 0.7816 - val_accuracy: 0.7308 - val_auc: 0.7549 - val_f1_score: 0.6667 - val_loss: 0.6205 - val_precision: 0.5833 - val_recall: 0.7778 - val_specificity: 0.7059\n",
      "Epoch 28/200\n",
      "\u001b[1m8/8\u001b[0m \u001b[32m━━━━━━━━━━━━━━━━━━━━\u001b[0m\u001b[37m\u001b[0m \u001b[1m0s\u001b[0m 6ms/step - accuracy: 0.8417 - auc: 0.9271 - f1_score: 0.7930 - loss: 0.3604 - precision: 0.7320 - recall: 0.8660 - specificity: 0.8251 - val_accuracy: 0.7308 - val_auc: 0.7451 - val_f1_score: 0.6667 - val_loss: 0.6252 - val_precision: 0.5833 - val_recall: 0.7778 - val_specificity: 0.7059\n",
      "Epoch 29/200\n",
      "\u001b[1m8/8\u001b[0m \u001b[32m━━━━━━━━━━━━━━━━━━━━\u001b[0m\u001b[37m\u001b[0m \u001b[1m0s\u001b[0m 6ms/step - accuracy: 0.8505 - auc: 0.9191 - f1_score: 0.8107 - loss: 0.3795 - precision: 0.7362 - recall: 0.9049 - specificity: 0.8227 - val_accuracy: 0.7308 - val_auc: 0.7582 - val_f1_score: 0.6667 - val_loss: 0.6196 - val_precision: 0.5833 - val_recall: 0.7778 - val_specificity: 0.7059\n",
      "Epoch 30/200\n",
      "\u001b[1m8/8\u001b[0m \u001b[32m━━━━━━━━━━━━━━━━━━━━\u001b[0m\u001b[37m\u001b[0m \u001b[1m0s\u001b[0m 6ms/step - accuracy: 0.8907 - auc: 0.9635 - f1_score: 0.8603 - loss: 0.2805 - precision: 0.7829 - recall: 0.9570 - specificity: 0.8556 - val_accuracy: 0.7692 - val_auc: 0.7582 - val_f1_score: 0.7000 - val_loss: 0.6074 - val_precision: 0.6364 - val_recall: 0.7778 - val_specificity: 0.7647\n",
      "Epoch 31/200\n",
      "\u001b[1m8/8\u001b[0m \u001b[32m━━━━━━━━━━━━━━━━━━━━\u001b[0m\u001b[37m\u001b[0m \u001b[1m0s\u001b[0m 6ms/step - accuracy: 0.8200 - auc: 0.9427 - f1_score: 0.7590 - loss: 0.3120 - precision: 0.7274 - recall: 0.7975 - specificity: 0.8346 - val_accuracy: 0.7692 - val_auc: 0.7614 - val_f1_score: 0.7000 - val_loss: 0.6005 - val_precision: 0.6364 - val_recall: 0.7778 - val_specificity: 0.7647\n",
      "Epoch 32/200\n",
      "\u001b[1m8/8\u001b[0m \u001b[32m━━━━━━━━━━━━━━━━━━━━\u001b[0m\u001b[37m\u001b[0m \u001b[1m0s\u001b[0m 6ms/step - accuracy: 0.8756 - auc: 0.9512 - f1_score: 0.8368 - loss: 0.3145 - precision: 0.7718 - recall: 0.9143 - specificity: 0.8534 - val_accuracy: 0.8077 - val_auc: 0.7647 - val_f1_score: 0.7368 - val_loss: 0.5965 - val_precision: 0.7000 - val_recall: 0.7778 - val_specificity: 0.8235\n",
      "Epoch 33/200\n",
      "\u001b[1m8/8\u001b[0m \u001b[32m━━━━━━━━━━━━━━━━━━━━\u001b[0m\u001b[37m\u001b[0m \u001b[1m0s\u001b[0m 6ms/step - accuracy: 0.8558 - auc: 0.9185 - f1_score: 0.8155 - loss: 0.3635 - precision: 0.7473 - recall: 0.9002 - specificity: 0.8302 - val_accuracy: 0.7692 - val_auc: 0.7647 - val_f1_score: 0.7000 - val_loss: 0.6039 - val_precision: 0.6364 - val_recall: 0.7778 - val_specificity: 0.7647\n",
      "Epoch 34/200\n",
      "\u001b[1m8/8\u001b[0m \u001b[32m━━━━━━━━━━━━━━━━━━━━\u001b[0m\u001b[37m\u001b[0m \u001b[1m0s\u001b[0m 6ms/step - accuracy: 0.8682 - auc: 0.9561 - f1_score: 0.8382 - loss: 0.2941 - precision: 0.7397 - recall: 0.9676 - specificity: 0.8112 - val_accuracy: 0.7308 - val_auc: 0.7582 - val_f1_score: 0.6667 - val_loss: 0.6158 - val_precision: 0.5833 - val_recall: 0.7778 - val_specificity: 0.7059\n",
      "Epoch 35/200\n",
      "\u001b[1m8/8\u001b[0m \u001b[32m━━━━━━━━━━━━━━━━━━━━\u001b[0m\u001b[37m\u001b[0m \u001b[1m0s\u001b[0m 6ms/step - accuracy: 0.8733 - auc: 0.9335 - f1_score: 0.8337 - loss: 0.3239 - precision: 0.7780 - recall: 0.9002 - specificity: 0.8578 - val_accuracy: 0.7308 - val_auc: 0.7516 - val_f1_score: 0.6667 - val_loss: 0.6202 - val_precision: 0.5833 - val_recall: 0.7778 - val_specificity: 0.7059\n",
      "Epoch 36/200\n",
      "\u001b[1m8/8\u001b[0m \u001b[32m━━━━━━━━━━━━━━━━━━━━\u001b[0m\u001b[37m\u001b[0m \u001b[1m0s\u001b[0m 6ms/step - accuracy: 0.8823 - auc: 0.9555 - f1_score: 0.8560 - loss: 0.2909 - precision: 0.7546 - recall: 0.9916 - specificity: 0.8218 - val_accuracy: 0.7308 - val_auc: 0.7582 - val_f1_score: 0.6667 - val_loss: 0.6145 - val_precision: 0.5833 - val_recall: 0.7778 - val_specificity: 0.7059\n",
      "Epoch 37/200\n",
      "\u001b[1m8/8\u001b[0m \u001b[32m━━━━━━━━━━━━━━━━━━━━\u001b[0m\u001b[37m\u001b[0m \u001b[1m0s\u001b[0m 7ms/step - accuracy: 0.9054 - auc: 0.9812 - f1_score: 0.8782 - loss: 0.2498 - precision: 0.8055 - recall: 0.9656 - specificity: 0.8715 - val_accuracy: 0.6923 - val_auc: 0.7451 - val_f1_score: 0.6000 - val_loss: 0.6162 - val_precision: 0.5455 - val_recall: 0.6667 - val_specificity: 0.7059\n",
      "Epoch 38/200\n",
      "\u001b[1m8/8\u001b[0m \u001b[32m━━━━━━━━━━━━━━━━━━━━\u001b[0m\u001b[37m\u001b[0m \u001b[1m0s\u001b[0m 6ms/step - accuracy: 0.8943 - auc: 0.9617 - f1_score: 0.8645 - loss: 0.2770 - precision: 0.7948 - recall: 0.9494 - specificity: 0.8636 - val_accuracy: 0.7308 - val_auc: 0.7451 - val_f1_score: 0.6316 - val_loss: 0.6156 - val_precision: 0.6000 - val_recall: 0.6667 - val_specificity: 0.7647\n",
      "Epoch 39/200\n",
      "\u001b[1m8/8\u001b[0m \u001b[32m━━━━━━━━━━━━━━━━━━━━\u001b[0m\u001b[37m\u001b[0m \u001b[1m0s\u001b[0m 6ms/step - accuracy: 0.8837 - auc: 0.9690 - f1_score: 0.8510 - loss: 0.2633 - precision: 0.7778 - recall: 0.9410 - specificity: 0.8520 - val_accuracy: 0.7308 - val_auc: 0.7320 - val_f1_score: 0.6316 - val_loss: 0.6186 - val_precision: 0.6000 - val_recall: 0.6667 - val_specificity: 0.7647\n",
      "Epoch 40/200\n",
      "\u001b[1m8/8\u001b[0m \u001b[32m━━━━━━━━━━━━━━━━━━━━\u001b[0m\u001b[37m\u001b[0m \u001b[1m0s\u001b[0m 6ms/step - accuracy: 0.8913 - auc: 0.9403 - f1_score: 0.8545 - loss: 0.3165 - precision: 0.8110 - recall: 0.9061 - specificity: 0.8833 - val_accuracy: 0.7308 - val_auc: 0.7484 - val_f1_score: 0.6316 - val_loss: 0.6018 - val_precision: 0.6000 - val_recall: 0.6667 - val_specificity: 0.7647\n",
      "Epoch 41/200\n",
      "\u001b[1m8/8\u001b[0m \u001b[32m━━━━━━━━━━━━━━━━━━━━\u001b[0m\u001b[37m\u001b[0m \u001b[1m0s\u001b[0m 6ms/step - accuracy: 0.9084 - auc: 0.9708 - f1_score: 0.8812 - loss: 0.2443 - precision: 0.8181 - recall: 0.9570 - specificity: 0.8820 - val_accuracy: 0.7308 - val_auc: 0.7418 - val_f1_score: 0.6316 - val_loss: 0.6084 - val_precision: 0.6000 - val_recall: 0.6667 - val_specificity: 0.7647\n",
      "Epoch 42/200\n",
      "\u001b[1m8/8\u001b[0m \u001b[32m━━━━━━━━━━━━━━━━━━━━\u001b[0m\u001b[37m\u001b[0m \u001b[1m0s\u001b[0m 7ms/step - accuracy: 0.9097 - auc: 0.9731 - f1_score: 0.8847 - loss: 0.2477 - precision: 0.8081 - recall: 0.9797 - specificity: 0.8695 - val_accuracy: 0.6923 - val_auc: 0.7353 - val_f1_score: 0.5556 - val_loss: 0.6080 - val_precision: 0.5556 - val_recall: 0.5556 - val_specificity: 0.7647\n",
      "Epoch 43/200\n",
      "\u001b[1m8/8\u001b[0m \u001b[32m━━━━━━━━━━━━━━━━━━━━\u001b[0m\u001b[37m\u001b[0m \u001b[1m0s\u001b[0m 6ms/step - accuracy: 0.9009 - auc: 0.9878 - f1_score: 0.8751 - loss: 0.2282 - precision: 0.7919 - recall: 0.9795 - specificity: 0.8564 - val_accuracy: 0.6538 - val_auc: 0.7451 - val_f1_score: 0.5263 - val_loss: 0.6067 - val_precision: 0.5000 - val_recall: 0.5556 - val_specificity: 0.7059\n",
      "Epoch 44/200\n",
      "\u001b[1m8/8\u001b[0m \u001b[32m━━━━━━━━━━━━━━━━━━━━\u001b[0m\u001b[37m\u001b[0m \u001b[1m0s\u001b[0m 6ms/step - accuracy: 0.9219 - auc: 0.9835 - f1_score: 0.8999 - loss: 0.2070 - precision: 0.8239 - recall: 0.9916 - specificity: 0.8822 - val_accuracy: 0.6923 - val_auc: 0.7516 - val_f1_score: 0.5556 - val_loss: 0.6128 - val_precision: 0.5556 - val_recall: 0.5556 - val_specificity: 0.7647\n",
      "Epoch 45/200\n",
      "\u001b[1m8/8\u001b[0m \u001b[32m━━━━━━━━━━━━━━━━━━━━\u001b[0m\u001b[37m\u001b[0m \u001b[1m0s\u001b[0m 6ms/step - accuracy: 0.8855 - auc: 0.9524 - f1_score: 0.8450 - loss: 0.2776 - precision: 0.8068 - recall: 0.8882 - specificity: 0.8848 - val_accuracy: 0.6923 - val_auc: 0.7582 - val_f1_score: 0.5556 - val_loss: 0.6031 - val_precision: 0.5556 - val_recall: 0.5556 - val_specificity: 0.7647\n",
      "Epoch 46/200\n",
      "\u001b[1m8/8\u001b[0m \u001b[32m━━━━━━━━━━━━━━━━━━━━\u001b[0m\u001b[37m\u001b[0m \u001b[1m0s\u001b[0m 7ms/step - accuracy: 0.9310 - auc: 0.9865 - f1_score: 0.9097 - loss: 0.1930 - precision: 0.8495 - recall: 0.9795 - specificity: 0.9030 - val_accuracy: 0.6923 - val_auc: 0.7614 - val_f1_score: 0.6000 - val_loss: 0.5994 - val_precision: 0.5455 - val_recall: 0.6667 - val_specificity: 0.7059\n",
      "Epoch 47/200\n",
      "\u001b[1m8/8\u001b[0m \u001b[32m━━━━━━━━━━━━━━━━━━━━\u001b[0m\u001b[37m\u001b[0m \u001b[1m0s\u001b[0m 6ms/step - accuracy: 0.8932 - auc: 0.9696 - f1_score: 0.8656 - loss: 0.2459 - precision: 0.7799 - recall: 0.9740 - specificity: 0.8485 - val_accuracy: 0.6923 - val_auc: 0.7614 - val_f1_score: 0.6000 - val_loss: 0.6027 - val_precision: 0.5455 - val_recall: 0.6667 - val_specificity: 0.7059\n",
      "Epoch 48/200\n",
      "\u001b[1m8/8\u001b[0m \u001b[32m━━━━━━━━━━━━━━━━━━━━\u001b[0m\u001b[37m\u001b[0m \u001b[1m0s\u001b[0m 7ms/step - accuracy: 0.9211 - auc: 0.9763 - f1_score: 0.8966 - loss: 0.2619 - precision: 0.8271 - recall: 0.9795 - specificity: 0.8891 - val_accuracy: 0.6923 - val_auc: 0.7582 - val_f1_score: 0.6000 - val_loss: 0.5970 - val_precision: 0.5455 - val_recall: 0.6667 - val_specificity: 0.7059\n",
      "Epoch 49/200\n",
      "\u001b[1m8/8\u001b[0m \u001b[32m━━━━━━━━━━━━━━━━━━━━\u001b[0m\u001b[37m\u001b[0m \u001b[1m0s\u001b[0m 7ms/step - accuracy: 0.8943 - auc: 0.9808 - f1_score: 0.8687 - loss: 0.2276 - precision: 0.7784 - recall: 0.9840 - specificity: 0.8429 - val_accuracy: 0.6923 - val_auc: 0.7516 - val_f1_score: 0.6000 - val_loss: 0.6092 - val_precision: 0.5455 - val_recall: 0.6667 - val_specificity: 0.7059\n",
      "Epoch 50/200\n",
      "\u001b[1m8/8\u001b[0m \u001b[32m━━━━━━━━━━━━━━━━━━━━\u001b[0m\u001b[37m\u001b[0m \u001b[1m0s\u001b[0m 6ms/step - accuracy: 0.9167 - auc: 0.9791 - f1_score: 0.8893 - loss: 0.2255 - precision: 0.8311 - recall: 0.9567 - specificity: 0.8943 - val_accuracy: 0.6923 - val_auc: 0.7647 - val_f1_score: 0.5556 - val_loss: 0.5977 - val_precision: 0.5556 - val_recall: 0.5556 - val_specificity: 0.7647\n",
      "Epoch 51/200\n",
      "\u001b[1m8/8\u001b[0m \u001b[32m━━━━━━━━━━━━━━━━━━━━\u001b[0m\u001b[37m\u001b[0m \u001b[1m0s\u001b[0m 6ms/step - accuracy: 0.9201 - auc: 0.9780 - f1_score: 0.8962 - loss: 0.2212 - precision: 0.8275 - recall: 0.9795 - specificity: 0.8870 - val_accuracy: 0.7308 - val_auc: 0.7745 - val_f1_score: 0.6316 - val_loss: 0.5927 - val_precision: 0.6000 - val_recall: 0.6667 - val_specificity: 0.7647\n",
      "Epoch 52/200\n",
      "\u001b[1m8/8\u001b[0m \u001b[32m━━━━━━━━━━━━━━━━━━━━\u001b[0m\u001b[37m\u001b[0m \u001b[1m0s\u001b[0m 6ms/step - accuracy: 0.9224 - auc: 0.9798 - f1_score: 0.8981 - loss: 0.2124 - precision: 0.8464 - recall: 0.9570 - specificity: 0.9030 - val_accuracy: 0.7308 - val_auc: 0.7810 - val_f1_score: 0.6316 - val_loss: 0.5936 - val_precision: 0.6000 - val_recall: 0.6667 - val_specificity: 0.7647\n"
     ]
    }
   ],
   "source": [
    "with tf.device('/CPU:0'):\n",
    "    early_stopping = EarlyStopping(\n",
    "        monitor='val_f1_score',\n",
    "        mode='max',\n",
    "        patience=20,\n",
    "        restore_best_weights=True\n",
    "    )\n",
    "\n",
    "    # creating model\n",
    "    model = create_classifier(\n",
    "        hidden_layers=[64],\n",
    "        dropout_rate=0.3,\n",
    "        batch_norm=False,\n",
    "        input_size=X_train.shape[1]\n",
    "    )\n",
    "\n",
    "    # compiling\n",
    "    model.compile(\n",
    "        optimizer=Adam(learning_rate=0.001),\n",
    "        loss='binary_crossentropy',\n",
    "        metrics=[\n",
    "            'accuracy',\n",
    "            tkm.Precision(name='precision'),\n",
    "            tkm.Recall(name='recall'),\n",
    "            tkm.AUC(name='auc'),\n",
    "            F1Score(name='f1_score'),\n",
    "            Specificity(name='specificity')\n",
    "        ]\n",
    "    )\n",
    "\n",
    "    # training\n",
    "    history = model.fit(X_train, y_train,\n",
    "            epochs=200,\n",
    "            batch_size=16,\n",
    "            verbose=1,\n",
    "            validation_data=(X_val, y_val),\n",
    "            callbacks=[early_stopping],\n",
    "            sample_weight=sample_weights,\n",
    "    )"
   ]
  },
  {
   "cell_type": "code",
   "execution_count": 14,
   "metadata": {
    "colab": {
     "base_uri": "https://localhost:8080/",
     "height": 368
    },
    "executionInfo": {
     "elapsed": 2117,
     "status": "ok",
     "timestamp": 1745021492662,
     "user": {
      "displayName": "Kelvin Leandro",
      "userId": "17919846364529882488"
     },
     "user_tz": 180
    },
    "id": "5xCORsI-Xzic",
    "outputId": "2cc897e8-d1ce-4b33-a10f-99587da93607"
   },
   "outputs": [
    {
     "data": {
      "image/png": "[encoded data removed]",
      "text/plain": [
       "<Figure size 1200x400 with 2 Axes>"
      ]
     },
     "metadata": {},
     "output_type": "display_data"
    }
   ],
   "source": [
    "fig, axes = plt.subplots(1, 2, figsize=(12, 4))\n",
    "axes[0].plot(history.history['val_f1_score'], label='Validation F1 Score')\n",
    "axes[0].plot(history.history['f1_score'], label='Training F1 Score')\n",
    "axes[0].legend()\n",
    "axes[1].plot(history.history['val_auc'], label='Validation AUC')\n",
    "axes[1].plot(history.history['auc'], label='Training AUC')\n",
    "axes[1].legend()\n",
    "plt.show()"
   ]
  },
  {
   "cell_type": "code",
   "execution_count": 15,
   "metadata": {
    "colab": {
     "base_uri": "https://localhost:8080/"
    },
    "executionInfo": {
     "elapsed": 77,
     "status": "ok",
     "timestamp": 1745021442382,
     "user": {
      "displayName": "Kelvin Leandro",
      "userId": "17919846364529882488"
     },
     "user_tz": 180
    },
    "id": "x8EBZ9oOKv0B",
    "outputId": "5f877967-6bf4-4edc-af1e-6416a2d014b3"
   },
   "outputs": [
    {
     "name": "stdout",
     "output_type": "stream",
     "text": [
      "\u001b[1m1/1\u001b[0m \u001b[32m━━━━━━━━━━━━━━━━━━━━\u001b[0m\u001b[37m\u001b[0m \u001b[1m0s\u001b[0m 26ms/step\n",
      "AUC: 0.8704\n",
      "F1 score: 0.7619\n",
      "Precision: 0.6667\n",
      "Recall: 0.8889\n",
      "Specificity: 0.7778\n"
     ]
    }
   ],
   "source": [
    "with tf.device('/CPU:0'):\n",
    "    y_pred = model.predict(X_test)\n",
    "    y_pred_binary = np.where(y_pred > 0.5, 1, 0)\n",
    "\n",
    "    tn, fp, fn, tp = confusion_matrix(y_test, y_pred_binary).ravel()\n",
    "    specificity = tn / (tn + fp + 1e-08)\n",
    "\n",
    "    print(f'AUC: {roc_auc_score(y_test, y_pred):.4f}')\n",
    "    print(f'F1 score: {f1_score(y_test, y_pred_binary):.4f}')\n",
    "    print(f'Precision: {precision_score(y_test, y_pred_binary):.4f}')\n",
    "    print(f'Recall: {recall_score(y_test, y_pred_binary):.4f}')\n",
    "    print(f'Specificity: {specificity:.4f}')"
   ]
  },
  {
   "cell_type": "markdown",
   "metadata": {
    "id": "auPy1Pi0Rfhr"
   },
   "source": [
    "## Running model with K-Fold CV"
   ]
  },
  {
   "cell_type": "code",
   "execution_count": 8,
   "metadata": {
    "executionInfo": {
     "elapsed": 17,
     "status": "ok",
     "timestamp": 1745181033456,
     "user": {
      "displayName": "Kelvin Leandro",
      "userId": "17919846364529882488"
     },
     "user_tz": 180
    },
    "id": "q9NxWkKEW5kB"
   },
   "outputs": [],
   "source": [
    "X_train, X_test, y_train, y_test = train_test_split(X, y, test_size=0.3, stratify=y, random_state=SEED)\n",
    "# X_test = holdout test set\n",
    "# X_train = used to train-val in cross-validation"
   ]
  },
  {
   "cell_type": "code",
   "execution_count": 17,
   "metadata": {
    "colab": {
     "base_uri": "https://localhost:8080/"
    },
    "executionInfo": {
     "elapsed": 2717606,
     "status": "ok",
     "timestamp": 1745183806168,
     "user": {
      "displayName": "Kelvin Leandro",
      "userId": "17919846364529882488"
     },
     "user_tz": 180
    },
    "id": "Plc9VHtQRh2Y",
    "outputId": "5fea619a-b258-45a7-92fd-39b656bca53e"
   },
   "outputs": [
    {
     "name": "stderr",
     "output_type": "stream",
     "text": [
      "Combination:   0%|          | 0/468 [00:00<?, ?it/s]"
     ]
    },
    {
     "name": "stdout",
     "output_type": "stream",
     "text": [
      "WARNING:tensorflow:5 out of the last 5 calls to <function TensorFlowTrainer.make_predict_function.<locals>.one_step_on_data_distributed at 0x7340581d0430> triggered tf.function retracing. Tracing is expensive and the excessive number of tracings could be due to (1) creating @tf.function repeatedly in a loop, (2) passing tensors with different shapes, (3) passing Python objects instead of tensors. For (1), please define your @tf.function outside of the loop. For (2), @tf.function has reduce_retracing=True option that can avoid unnecessary retracing. For (3), please refer to https://www.tensorflow.org/guide/function#controlling_retracing and https://www.tensorflow.org/api_docs/python/tf/function for  more details.\n",
      "WARNING:tensorflow:6 out of the last 6 calls to <function TensorFlowTrainer.make_predict_function.<locals>.one_step_on_data_distributed at 0x734058d40d30> triggered tf.function retracing. Tracing is expensive and the excessive number of tracings could be due to (1) creating @tf.function repeatedly in a loop, (2) passing tensors with different shapes, (3) passing Python objects instead of tensors. For (1), please define your @tf.function outside of the loop. For (2), @tf.function has reduce_retracing=True option that can avoid unnecessary retracing. For (3), please refer to https://www.tensorflow.org/guide/function#controlling_retracing and https://www.tensorflow.org/api_docs/python/tf/function for  more details.\n"
     ]
    },
    {
     "name": "stderr",
     "output_type": "stream",
     "text": [
      "Combination:   0%|          | 1/468 [00:13<1:42:46, 13.20s/it]"
     ]
    },
    {
     "name": "stdout",
     "output_type": "stream",
     "text": [
      "Saving model with best val_f1_score = 0.7165 +- 0.0791\n"
     ]
    },
    {
     "name": "stderr",
     "output_type": "stream",
     "text": [
      "Combination:   0%|          | 2/468 [00:26<1:41:58, 13.13s/it]"
     ]
    },
    {
     "name": "stdout",
     "output_type": "stream",
     "text": [
      "Saving model with best val_f1_score = 0.7325 +- 0.0648\n"
     ]
    },
    {
     "name": "stderr",
     "output_type": "stream",
     "text": [
      "Combination:   3%|▎         | 13/468 [03:03<1:46:14, 14.01s/it]"
     ]
    },
    {
     "name": "stdout",
     "output_type": "stream",
     "text": [
      "Saving model with best val_f1_score = 0.7655 +- 0.0870\n"
     ]
    },
    {
     "name": "stderr",
     "output_type": "stream",
     "text": [
      "Combination:   5%|▌         | 25/468 [06:04<1:46:10, 14.38s/it]"
     ]
    },
    {
     "name": "stdout",
     "output_type": "stream",
     "text": [
      "Saving model with best val_f1_score = 0.7686 +- 0.0450\n"
     ]
    },
    {
     "name": "stderr",
     "output_type": "stream",
     "text": [
      "Combination:  13%|█▎        | 62/468 [14:53<1:40:18, 14.82s/it]"
     ]
    },
    {
     "name": "stdout",
     "output_type": "stream",
     "text": [
      "Saving model with best val_f1_score = 0.7739 +- 0.0522\n"
     ]
    },
    {
     "name": "stderr",
     "output_type": "stream",
     "text": [
      "Combination:  21%|██        | 97/468 [23:26<1:30:30, 14.64s/it]"
     ]
    },
    {
     "name": "stdout",
     "output_type": "stream",
     "text": [
      "Saving model with best val_f1_score = 0.7769 +- 0.0791\n"
     ]
    },
    {
     "name": "stderr",
     "output_type": "stream",
     "text": [
      "Combination:  52%|█████▏    | 242/468 [58:57<58:45, 15.60s/it]  "
     ]
    },
    {
     "name": "stdout",
     "output_type": "stream",
     "text": [
      "Saving model with best val_f1_score = 0.7931 +- 0.0492\n"
     ]
    },
    {
     "name": "stderr",
     "output_type": "stream",
     "text": [
      "Combination:  87%|████████▋ | 409/468 [1:41:39<14:51, 15.11s/it]  "
     ]
    },
    {
     "name": "stdout",
     "output_type": "stream",
     "text": [
      "Saving model with best val_f1_score = 0.7951 +- 0.0534\n"
     ]
    },
    {
     "name": "stderr",
     "output_type": "stream",
     "text": [
      "Combination:  95%|█████████▌| 446/468 [1:50:34<05:58, 16.29s/it]"
     ]
    },
    {
     "name": "stdout",
     "output_type": "stream",
     "text": [
      "Saving model with best val_f1_score = 0.8025 +- 0.0607\n"
     ]
    },
    {
     "name": "stderr",
     "output_type": "stream",
     "text": [
      "Combination:  98%|█████████▊| 458/468 [1:54:47<03:14, 19.48s/it]"
     ]
    },
    {
     "name": "stdout",
     "output_type": "stream",
     "text": [
      "Saving model with best val_f1_score = 0.8029 +- 0.0388\n"
     ]
    },
    {
     "name": "stderr",
     "output_type": "stream",
     "text": [
      "Combination: 100%|██████████| 468/468 [1:57:50<00:00, 15.11s/it]\n"
     ]
    }
   ],
   "source": [
    "from sklearn.model_selection import StratifiedKFold\n",
    "\n",
    "# K-Fold setup\n",
    "k = 5\n",
    "skf = StratifiedKFold(n_splits=k, shuffle=True, random_state=42)\n",
    "\n",
    "with tf.device('/CPU:0'):\n",
    "    # To track best model\n",
    "    metric_to_track = 'val_f1_score'\n",
    "    best_avg_metric = -np.inf\n",
    "    best_std_metric = np.inf\n",
    "    best_config = None\n",
    "    best_model_weights = None\n",
    "\n",
    "    # Start hyperparameter search\n",
    "    for combo in tqdm(combinations, desc=\"Combination\"):\n",
    "        params = dict(zip(param_names, combo))\n",
    "        fold_metrics = []\n",
    "\n",
    "        for fold, (train_idx, val_idx) in enumerate(skf.split(X_train, y_train)):\n",
    "            # Split data\n",
    "            X_train_fold, X_val_fold = X_train[train_idx], X_train[val_idx]\n",
    "            y_train_fold, y_val_fold = y_train[train_idx], y_train[val_idx]\n",
    "\n",
    "            # Standardization\n",
    "            scaler = StandardScaler()\n",
    "            X_train_fold = scaler.fit_transform(X_train_fold)\n",
    "            X_val_fold = scaler.transform(X_val_fold)\n",
    "\n",
    "            # Build model\n",
    "            model = create_classifier(\n",
    "                hidden_layers=params['hidden_layers'],\n",
    "                dropout_rate=params['dropout'],\n",
    "                batch_norm=params['batch_norm'],\n",
    "                input_size=X.shape[1]\n",
    "            )\n",
    "\n",
    "            model.compile(\n",
    "                optimizer=Adam(learning_rate=params['lr']),\n",
    "                loss='binary_crossentropy',\n",
    "                metrics=[\n",
    "                    'accuracy',\n",
    "                    tkm.Precision(name='precision'),\n",
    "                    tkm.Recall(name='recall'),\n",
    "                    tkm.AUC(name='auc'),\n",
    "                    F1Score(name='f1_score'),\n",
    "                    Specificity(name='specificity')\n",
    "                ]\n",
    "            )\n",
    "\n",
    "            # Early stopping\n",
    "            early_stop = EarlyStopping(\n",
    "                monitor=metric_to_track,\n",
    "                mode='max',\n",
    "                patience=20,\n",
    "                restore_best_weights=True,\n",
    "                verbose=0\n",
    "            )\n",
    "\n",
    "            # Train\n",
    "            model.fit(\n",
    "                X_train_fold, y_train_fold,\n",
    "                validation_data=(X_val_fold, y_val_fold),\n",
    "                epochs=200,\n",
    "                batch_size=params['batch_size'],\n",
    "                callbacks=[early_stop],\n",
    "                verbose=0,\n",
    "                sample_weight=compute_sample_weight(class_weight='balanced', y=y_train_fold.ravel())\n",
    "            )\n",
    "\n",
    "            # Predict on validation set\n",
    "            y_pred_val = model.predict(X_val_fold, verbose=0)\n",
    "            y_pred_labels = (y_pred_val > 0.5).astype(int)\n",
    "\n",
    "            # Metric calculation\n",
    "            if metric_to_track == 'val_f1_score':\n",
    "                f1 = f1_score(y_val_fold, y_pred_labels)\n",
    "                fold_metrics.append(f1)\n",
    "            elif metric_to_track == 'val_auc':\n",
    "                auc = roc_auc_score(y_val_fold, y_pred_val)\n",
    "                fold_metrics.append(auc)\n",
    "\n",
    "        # Mean Metric across folds\n",
    "        avg_metric = np.mean(fold_metrics)\n",
    "        std_metric = np.std(fold_metrics)\n",
    "\n",
    "        # Track best\n",
    "        if avg_metric > best_avg_metric:\n",
    "            best_avg_metric = avg_metric\n",
    "            best_std_metric = std_metric\n",
    "            best_config = params\n",
    "            best_model_weights = model.get_weights()  # Save best model\n",
    "\n",
    "            tqdm.write(f\"Saving model with best {metric_to_track} = {avg_metric:.4f} +- {std_metric:.4f}\")"
   ]
  },
  {
   "cell_type": "code",
   "execution_count": 18,
   "metadata": {
    "colab": {
     "base_uri": "https://localhost:8080/"
    },
    "executionInfo": {
     "elapsed": 44,
     "status": "ok",
     "timestamp": 1745183814671,
     "user": {
      "displayName": "Kelvin Leandro",
      "userId": "17919846364529882488"
     },
     "user_tz": 180
    },
    "id": "oiI-x22ZA-IQ",
    "outputId": "6ccd4474-0d2b-48d3-ad4d-98203b335558"
   },
   "outputs": [
    {
     "name": "stdout",
     "output_type": "stream",
     "text": [
      "Best Config: {'hidden_layers': [32, 16, 8], 'dropout': 0.5, 'batch_norm': True, 'lr': 0.01, 'batch_size': 16}\n",
      "Best Score: 0.8029 +- 0.0388\n"
     ]
    }
   ],
   "source": [
    "# Summary\n",
    "print(\"Best Config:\", best_config)\n",
    "print(f\"Best Score: {best_avg_metric:.4f} +- {best_std_metric:.4f}\")"
   ]
  },
  {
   "cell_type": "code",
   "execution_count": 19,
   "metadata": {
    "executionInfo": {
     "elapsed": 130,
     "status": "ok",
     "timestamp": 1745183830959,
     "user": {
      "displayName": "Kelvin Leandro",
      "userId": "17919846364529882488"
     },
     "user_tz": 180
    },
    "id": "gZI7hQMtdfFL"
   },
   "outputs": [],
   "source": [
    "# training and then testing on holdout set\n",
    "scaler = StandardScaler()\n",
    "X_train = scaler.fit_transform(X_train)\n",
    "X_test = scaler.transform(X_test)\n",
    "\n",
    "# Build model\n",
    "model = create_classifier(\n",
    "    hidden_layers=best_config['hidden_layers'],\n",
    "    dropout_rate=best_config['dropout'],\n",
    "    batch_norm=best_config['batch_norm'],\n",
    "    input_size=X.shape[1]\n",
    ")\n",
    "\n",
    "model.set_weights(best_model_weights)"
   ]
  },
  {
   "cell_type": "code",
   "execution_count": 20,
   "metadata": {
    "colab": {
     "base_uri": "https://localhost:8080/"
    },
    "executionInfo": {
     "elapsed": 628,
     "status": "ok",
     "timestamp": 1745183835367,
     "user": {
      "displayName": "Kelvin Leandro",
      "userId": "17919846364529882488"
     },
     "user_tz": 180
    },
    "id": "kIlNRWjweZO4",
    "outputId": "529c1e90-2984-4923-c4cd-e37285873da9"
   },
   "outputs": [
    {
     "name": "stdout",
     "output_type": "stream",
     "text": [
      "AUC: 0.8190\n",
      "F1 score: 0.6341\n",
      "Precision: 0.5652\n",
      "Recall: 0.7222\n",
      "Specificity: 0.7143\n"
     ]
    }
   ],
   "source": [
    "# Predict on test set\n",
    "y_pred = model.predict(X_test, verbose=0)\n",
    "y_pred_binary = (y_pred > 0.5).astype(int)\n",
    "\n",
    "tn, fp, fn, tp = confusion_matrix(y_test, y_pred_binary).ravel()\n",
    "specificity = tn / (tn + fp + 1e-08)\n",
    "\n",
    "print(f'AUC: {roc_auc_score(y_test, y_pred):.4f}')\n",
    "print(f'F1 score: {f1_score(y_test, y_pred_binary):.4f}')\n",
    "print(f'Precision: {precision_score(y_test, y_pred_binary):.4f}')\n",
    "print(f'Recall: {recall_score(y_test, y_pred_binary):.4f}')\n",
    "print(f'Specificity: {specificity:.4f}')"
   ]
  },
  {
   "cell_type": "code",
   "execution_count": 25,
   "metadata": {
    "colab": {
     "base_uri": "https://localhost:8080/"
    },
    "executionInfo": {
     "elapsed": 25651,
     "status": "ok",
     "timestamp": 1745184387815,
     "user": {
      "displayName": "Kelvin Leandro",
      "userId": "17919846364529882488"
     },
     "user_tz": 180
    },
    "id": "il3y6pqAERfW",
    "outputId": "9e85c601-10c5-47e5-a57b-954d6c047e51"
   },
   "outputs": [
    {
     "name": "stderr",
     "output_type": "stream",
     "text": [
      "/usr/local/lib/python3.11/dist-packages/keras/src/callbacks/early_stopping.py:153: UserWarning: Early stopping conditioned on metric `val_f1_score` which is not available. Available metrics are: accuracy,auc,f1_score,loss,precision,recall,specificity\n",
      "  current = self.get_monitor_value(logs)\n"
     ]
    },
    {
     "data": {
      "text/plain": [
       "<keras.src.callbacks.history.History at 0x7953d844eb10>"
      ]
     },
     "execution_count": 25,
     "metadata": {},
     "output_type": "execute_result"
    }
   ],
   "source": [
    "# training and then testing on holdout set\n",
    "X_train, X_test, y_train, y_test = train_test_split(X, y, test_size=0.3, stratify=y, random_state=SEED)\n",
    "scaler = StandardScaler()\n",
    "X_train = scaler.fit_transform(X_train)\n",
    "X_test = scaler.transform(X_test)\n",
    "\n",
    "# Build model\n",
    "model = create_classifier(\n",
    "    hidden_layers=best_config['hidden_layers'],\n",
    "    dropout_rate=best_config['dropout'],\n",
    "    batch_norm=best_config['batch_norm'],\n",
    "    input_size=X.shape[1]\n",
    ")\n",
    "\n",
    "model.compile(\n",
    "    optimizer=Adam(learning_rate=best_config['lr']),\n",
    "    loss='binary_crossentropy',\n",
    "    metrics=[\n",
    "        'accuracy',\n",
    "        tkm.Precision(name='precision'),\n",
    "        tkm.Recall(name='recall'),\n",
    "        tkm.AUC(name='auc'),\n",
    "        F1Score(name='f1_score'),\n",
    "        Specificity(name='specificity')\n",
    "    ]\n",
    ")\n",
    "\n",
    "# Early stopping\n",
    "early_stop = EarlyStopping(\n",
    "    monitor=metric_to_track,\n",
    "    mode='max',\n",
    "    patience=20,\n",
    "    restore_best_weights=True,\n",
    "    verbose=0\n",
    ")\n",
    "\n",
    "# Train\n",
    "model.fit(\n",
    "    X_train, y_train,\n",
    "    validation_split=0.,\n",
    "    epochs=200,\n",
    "    batch_size=best_config['batch_size'],\n",
    "    callbacks=[early_stop],\n",
    "    verbose=0,\n",
    "    sample_weight=compute_sample_weight(class_weight='balanced', y=y_train.ravel())\n",
    ")"
   ]
  },
  {
   "cell_type": "code",
   "execution_count": 10,
   "metadata": {},
   "outputs": [
    {
     "name": "stderr",
     "output_type": "stream",
     "text": [
      "/home/kelvin/Downloads/scd-feature-reduction/.venv/lib/python3.10/site-packages/keras/src/callbacks/early_stopping.py:153: UserWarning: Early stopping conditioned on metric `val_f1_score` which is not available. Available metrics are: accuracy,auc,f1_score,loss,precision,recall,specificity\n",
      "  current = self.get_monitor_value(logs)\n"
     ]
    },
    {
     "data": {
      "text/plain": [
       "<keras.src.callbacks.history.History at 0x7e7b64daca90>"
      ]
     },
     "execution_count": 10,
     "metadata": {},
     "output_type": "execute_result"
    }
   ],
   "source": [
    "# training and then testing on holdout set\n",
    "X_train, X_test, y_train, y_test = train_test_split(X, y, test_size=0.3, stratify=y, random_state=SEED)\n",
    "scaler = StandardScaler()\n",
    "X_train = scaler.fit_transform(X_train)\n",
    "X_test = scaler.transform(X_test)\n",
    "\n",
    "# Best Config: {'hidden_layers': [32, 16, 8], 'dropout': 0.5, 'batch_norm': True, 'lr': 0.01, 'batch_size': 16}\n",
    "# Build model\n",
    "model = create_classifier(\n",
    "    hidden_layers=[32, 16, 8],\n",
    "    dropout_rate=0.5,\n",
    "    batch_norm=True,\n",
    "    input_size=X.shape[1]\n",
    ")\n",
    "\n",
    "model.compile(\n",
    "    optimizer=Adam(learning_rate=0.01),\n",
    "    loss='binary_crossentropy',\n",
    "    metrics=[\n",
    "        'accuracy',\n",
    "        tkm.Precision(name='precision'),\n",
    "        tkm.Recall(name='recall'),\n",
    "        tkm.AUC(name='auc'),\n",
    "        F1Score(name='f1_score'),\n",
    "        Specificity(name='specificity')\n",
    "    ]\n",
    ")\n",
    "\n",
    "# Early stopping\n",
    "early_stop = EarlyStopping(\n",
    "    monitor='val_f1_score',\n",
    "    mode='max',\n",
    "    patience=20,\n",
    "    restore_best_weights=True,\n",
    "    verbose=0\n",
    ")\n",
    "\n",
    "# Train\n",
    "model.fit(\n",
    "    X_train, y_train,\n",
    "    validation_split=0.,\n",
    "    epochs=200,\n",
    "    batch_size=16,\n",
    "    callbacks=[early_stop],\n",
    "    verbose=0,\n",
    "    sample_weight=compute_sample_weight(class_weight='balanced', y=y_train.ravel())\n",
    ")"
   ]
  },
  {
   "cell_type": "code",
   "execution_count": 11,
   "metadata": {
    "colab": {
     "base_uri": "https://localhost:8080/"
    },
    "executionInfo": {
     "elapsed": 395,
     "status": "ok",
     "timestamp": 1745184388192,
     "user": {
      "displayName": "Kelvin Leandro",
      "userId": "17919846364529882488"
     },
     "user_tz": 180
    },
    "id": "yP6QKDwdEvnx",
    "outputId": "790c3889-c76f-472f-c6c7-65efd4d581c5"
   },
   "outputs": [
    {
     "name": "stdout",
     "output_type": "stream",
     "text": [
      "AUC: 0.8905\n",
      "F1 score: 0.7692\n",
      "Precision: 0.7143\n",
      "Recall: 0.8333\n",
      "Specificity: 0.8286\n"
     ]
    }
   ],
   "source": [
    "# Predict on test set\n",
    "y_pred = model.predict(X_test, verbose=0)\n",
    "y_pred_binary = (y_pred > 0.5).astype(int)\n",
    "\n",
    "tn, fp, fn, tp = confusion_matrix(y_test, y_pred_binary).ravel()\n",
    "specificity = tn / (tn + fp + 1e-08)\n",
    "\n",
    "print(f'AUC: {roc_auc_score(y_test, y_pred):.4f}')\n",
    "print(f'F1 score: {f1_score(y_test, y_pred_binary):.4f}')\n",
    "print(f'Precision: {precision_score(y_test, y_pred_binary):.4f}')\n",
    "print(f'Recall: {recall_score(y_test, y_pred_binary):.4f}')\n",
    "print(f'Specificity: {specificity:.4f}')"
   ]
  }
 ],
 "metadata": {
  "colab": {
   "authorship_tag": "ABX9TyNUItr/BlGUf8bmWm27rpDJ",
   "mount_file_id": "1FIGSmWD1Hv7PPbxZuswUhd0QARBqo-dl",
   "provenance": []
  },
  "kernelspec": {
   "display_name": ".venv",
   "language": "python",
   "name": "python3"
  },
  "language_info": {
   "codemirror_mode": {
    "name": "ipython",
    "version": 3
   },
   "file_extension": ".py",
   "mimetype": "text/x-python",
   "name": "python",
   "nbconvert_exporter": "python",
   "pygments_lexer": "ipython3",
   "version": "3.10.12"
  }
 },
 "nbformat": 4,
 "nbformat_minor": 0
}
